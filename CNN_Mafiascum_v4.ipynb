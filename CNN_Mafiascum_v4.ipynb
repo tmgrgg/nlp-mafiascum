{
  "nbformat": 4,
  "nbformat_minor": 0,
  "metadata": {
    "kernelspec": {
      "name": "python3",
      "display_name": "Python 3"
    },
    "language_info": {
      "codemirror_mode": {
        "name": "ipython",
        "version": 3
      },
      "file_extension": ".py",
      "mimetype": "text/x-python",
      "name": "python",
      "nbconvert_exporter": "python",
      "pygments_lexer": "ipython3",
      "version": "3.7.0"
    },
    "colab": {
      "name": "CNN_Mafiascum_v4.ipynb",
      "provenance": [],
      "collapsed_sections": [],
      "toc_visible": true,
      "include_colab_link": true
    },
    "accelerator": "GPU"
  },
  "cells": [
    {
      "cell_type": "markdown",
      "metadata": {
        "id": "view-in-github",
        "colab_type": "text"
      },
      "source": [
        "<a href=\"https://colab.research.google.com/github/tmgrgg/nlp-mafiascum/blob/master/CNN_Mafiascum_v4.ipynb\" target=\"_parent\"><img src=\"https://colab.research.google.com/assets/colab-badge.svg\" alt=\"Open In Colab\"/></a>"
      ]
    },
    {
      "cell_type": "markdown",
      "metadata": {
        "id": "EK3Bi0ab-JDn",
        "colab_type": "text"
      },
      "source": [
        "Motivation: \n",
        "\n",
        "Users are more likely to lie multiple times in a single document. Therefore to learn a lying signal in a deep learning system.. it's better to target locally and then aggregate."
      ]
    },
    {
      "cell_type": "markdown",
      "metadata": {
        "id": "YSqK543M5Mpf",
        "colab_type": "text"
      },
      "source": [
        "this notebook now has reproducibility!"
      ]
    },
    {
      "cell_type": "code",
      "metadata": {
        "id": "qF1mint_E5bQ",
        "colab_type": "code",
        "outputId": "a8efd68d-768a-4fc2-f8c9-de719461fb73",
        "colab": {
          "base_uri": "https://localhost:8080/",
          "height": 54
        }
      },
      "source": [
        "from google.colab import drive\n",
        "drive.mount('/content/drive')"
      ],
      "execution_count": 1,
      "outputs": [
        {
          "output_type": "stream",
          "text": [
            "Drive already mounted at /content/drive; to attempt to forcibly remount, call drive.mount(\"/content/drive\", force_remount=True).\n"
          ],
          "name": "stdout"
        }
      ]
    },
    {
      "cell_type": "markdown",
      "metadata": {
        "id": "rSBuDFozTD_8",
        "colab_type": "text"
      },
      "source": [
        "# Build Dataset"
      ]
    },
    {
      "cell_type": "code",
      "metadata": {
        "id": "0oH_tinDSo7c",
        "colab_type": "code",
        "colab": {
          "base_uri": "https://localhost:8080/",
          "height": 221
        },
        "outputId": "1b1651f2-8d41-4acc-a21a-c4221c49ed53"
      },
      "source": [
        "import pandas as pd\n",
        "import torch\n",
        "from torchtext import data\n",
        "from torchtext import datasets\n",
        "import random\n",
        "import numpy as np\n",
        "\n",
        "#SEED = 49\n",
        "#pretty good \n",
        "\n",
        "SEED = 49\n",
        "torch.backends.cudnn.deterministic = True\n",
        "np.random.seed(SEED)\n",
        "random.seed(SEED)\n",
        "torch.manual_seed(SEED)\n",
        "\n",
        "DOCS_PATH = 'drive/My Drive/MAFIA_DATA/24h_of_deception_basic.pkl'\n",
        "\n",
        "docs = pd.read_pickle(DOCS_PATH)\n",
        "docs = docs.sample(frac=1)\n",
        "\n",
        "print(len(docs))\n",
        "\n",
        "TEST_RATIO = 0.5\n",
        "VALID_RATIO = 0.3\n",
        "\n",
        "# split at user level to stop leakage (plus, we want to be agnostic to author identity!)\n",
        "users = docs.author.unique()\n",
        "np.random.shuffle(users)\n",
        "\n",
        "train_users = users[int(len(users)*TEST_RATIO):]\n",
        "test_users = users[:int(len(users)*TEST_RATIO)]\n",
        "valid_users = train_users[:int(len(train_users)*VALID_RATIO)]\n",
        "train_users = train_users[int(len(train_users)*VALID_RATIO):]\n",
        "\n",
        "train_docs = docs[np.isin(docs['author'].values, train_users)]\n",
        "valid_docs = docs[np.isin(docs['author'].values, valid_users)]\n",
        "test_docs = docs[np.isin(docs['author'].values, test_users)]\n",
        "\n",
        "print(docs.iloc[0]['author'] == 'Egg')\n",
        "print(docs.iloc[1]['author'] == 'Wake88')\n",
        "print(train_docs.iloc[0]['author'] == 'Egg')\n",
        "print(train_docs.iloc[1]['author'] == 'Vendagoat')\n",
        "print(valid_docs.iloc[0]['author'] == 'Wake88')\n",
        "print(valid_docs.iloc[1]['author'] == 'OhGodMyLife')\n",
        "print(test_docs.iloc[0]['author'] == 'Bellaphant')\n",
        "print(test_docs.iloc[1]['author'] == 'Fishbulb')\n",
        "\n",
        "print(len(train_docs[train_docs['scum'] == False])/len(train_docs))\n",
        "print(len(valid_docs[valid_docs['scum'] == False])/len(valid_docs))\n",
        "print(len(test_docs[test_docs['scum'] == False])/len(test_docs))"
      ],
      "execution_count": 2,
      "outputs": [
        {
          "output_type": "stream",
          "text": [
            "112523\n",
            "False\n",
            "False\n",
            "False\n",
            "False\n",
            "False\n",
            "False\n",
            "False\n",
            "False\n",
            "0.7640725776093558\n",
            "0.76381299332119\n",
            "0.7598832864818703\n"
          ],
          "name": "stdout"
        }
      ]
    },
    {
      "cell_type": "code",
      "metadata": {
        "id": "3tzDAjQkAQLK",
        "colab_type": "code",
        "colab": {}
      },
      "source": [
        "from torchtext import data\n",
        "\n",
        "class DataFrameDataset(data.Dataset):\n",
        "\n",
        "    def __init__(self, df, text_field, label_field, **kwargs):\n",
        "        fields = [('text', text_field), ('label', label_field), ('index', Field(sequential=False, use_vocab=False))]\n",
        "        examples = []\n",
        "        for i, row in df.iterrows():\n",
        "            label = row.scum \n",
        "            text = row.words\n",
        "            examples.append(data.Example.fromlist([text, label, i], fields))\n",
        "\n",
        "        super().__init__(examples, fields, **kwargs)\n",
        "\n",
        "    @staticmethod\n",
        "    def sort_key(ex):\n",
        "        return len(ex.text)\n",
        "\n",
        "from torchtext.data import Field, LabelField\n",
        "\n",
        "# define Fields\n",
        "TEXT = Field(sequential=True, include_lengths=True, batch_first=True)\n",
        "LABEL = LabelField(dtype=torch.float)\n",
        "#LABEL = LabelField(dtype=torch.long)\n",
        "\n",
        "# define Dataset\n",
        "#train_data = \n",
        "#dataset = DataFrameDataset(docs, TEXT, LABEL)\n",
        "train_data = DataFrameDataset(train_docs, TEXT, LABEL)\n",
        "valid_data = DataFrameDataset(valid_docs, TEXT, LABEL)\n",
        "test_data = DataFrameDataset(test_docs, TEXT, LABEL)\n",
        "\n",
        "#train_data, test_data = dataset.split(split_ratio=0.8, random_state=random.seed(SEED))\n",
        "#train_data, valid_data = train_data.split(split_ratio = 0.8, random_state= random.seed(SEED))"
      ],
      "execution_count": 0,
      "outputs": []
    },
    {
      "cell_type": "code",
      "metadata": {
        "id": "06gEwnTitLrT",
        "colab_type": "code",
        "colab": {
          "base_uri": "https://localhost:8080/",
          "height": 683
        },
        "outputId": "d22dc6e8-1280-4488-a5f0-51093f2652a1"
      },
      "source": [
        "# data split analysis...\n",
        "train_lens = []\n",
        "test_lens = []\n",
        "valid_lens = []\n",
        "for x in train_data:\n",
        "  train_lens.append(len(x.text))\n",
        "\n",
        "for x in test_data:\n",
        "  test_lens.append(len(x.text))\n",
        "\n",
        "for x in valid_data:\n",
        "  valid_lens.append(len(x.text))\n",
        "\n",
        "print(train_lens[0] == 384)\n",
        "print(train_lens[1] == 110)\n",
        "\n",
        "print(valid_lens[0] == 766)\n",
        "print(valid_lens[1] == 500)\n",
        "\n",
        "print(test_lens[0] == 159)\n",
        "print(test_lens[1] == 171)\n",
        "\n",
        "print(len(train_data))\n",
        "print(len(valid_data))\n",
        "print(len(test_data))\n",
        "\n",
        "import pandas as pd\n",
        "train_df = pd.DataFrame(train_lens)\n",
        "test_df = pd.DataFrame(test_lens)\n",
        "valid_df = pd.DataFrame(valid_lens)\n",
        "train_df.plot.kde()\n",
        "valid_df.plot.kde()"
      ],
      "execution_count": 4,
      "outputs": [
        {
          "output_type": "stream",
          "text": [
            "False\n",
            "False\n",
            "False\n",
            "False\n",
            "False\n",
            "False\n",
            "39847\n",
            "16470\n",
            "56206\n"
          ],
          "name": "stdout"
        },
        {
          "output_type": "execute_result",
          "data": {
            "text/plain": [
              "<matplotlib.axes._subplots.AxesSubplot at 0x7f1bc553e710>"
            ]
          },
          "metadata": {
            "tags": []
          },
          "execution_count": 4
        },
        {
          "output_type": "display_data",
          "data": {
            "image/png": "[encoded data removed]",
            "text/plain": [
              "<Figure size 432x288 with 1 Axes>"
            ]
          },
          "metadata": {
            "tags": []
          }
        },
        {
          "output_type": "display_data",
          "data": {
            "image/png": "[encoded data removed]",
            "text/plain": [
              "<Figure size 432x288 with 1 Axes>"
            ]
          },
          "metadata": {
            "tags": []
          }
        }
      ]
    },
    {
      "cell_type": "markdown",
      "metadata": {
        "colab_type": "text",
        "id": "Lt5rob6R5W3P"
      },
      "source": [
        "# Specify Model"
      ]
    },
    {
      "cell_type": "code",
      "metadata": {
        "id": "VVDC5h0iSlnQ",
        "colab_type": "code",
        "colab": {}
      },
      "source": [
        "import torch.nn as nn\n",
        "import torch.nn.functional as F\n",
        "\n",
        "class CNN(nn.Module):\n",
        "    def __init__(self, vocab_size, embedding_dim, n_filters, filter_sizes, output_dim, \n",
        "                 dropout, pad_idx):\n",
        "        \n",
        "        super().__init__()\n",
        "                \n",
        "        self.embedding = nn.Embedding(vocab_size, embedding_dim, padding_idx = pad_idx)\n",
        "        \n",
        "        self.convs = nn.ModuleList([\n",
        "                                    nn.Conv2d(in_channels = 1, \n",
        "                                              out_channels = n_filters, \n",
        "                                              kernel_size = (fs, embedding_dim)) \n",
        "                                    for fs in filter_sizes\n",
        "                                    ])\n",
        "        \n",
        "        self.fc = nn.Linear(len(filter_sizes) * n_filters, 256)\n",
        "        self.fc2 = nn.Linear(256, output_dim)\n",
        "        \n",
        "        self.dropout = nn.Dropout(dropout)\n",
        "        \n",
        "    def forward(self, text):\n",
        "                \n",
        "        #text = [batch size, sent len]\n",
        "        \n",
        "        embedded = self.embedding(text)\n",
        "                \n",
        "        #embedded = [batch size, sent len, emb dim]\n",
        "        \n",
        "        embedded = embedded.unsqueeze(1)\n",
        "        \n",
        "        #embedded = [batch size, 1, sent len, emb dim]\n",
        "        \n",
        "        conved = [F.relu(conv(embedded)).squeeze(3) for conv in self.convs]\n",
        "            \n",
        "        #conved_n = [batch size, n_filters, sent len - filter_sizes[n] + 1]\n",
        "                \n",
        "        pooled = [F.max_pool1d(conv, conv.shape[2]).squeeze(2) for conv in conved]\n",
        "        \n",
        "        #pooled_n = [batch size, n_filters]\n",
        "        \n",
        "        cat = self.dropout(torch.cat(pooled, dim = 1))\n",
        "\n",
        "        #cat = [batch size, n_filters * len(filter_sizes)]\n",
        "\n",
        "        #return self.fc(cat)\n",
        "        return self.fc2(F.relu(self.fc(cat)))"
      ],
      "execution_count": 0,
      "outputs": []
    },
    {
      "cell_type": "markdown",
      "metadata": {
        "id": "NGxsc4l4Slnl",
        "colab_type": "text"
      },
      "source": [
        "# TRAINING "
      ]
    },
    {
      "cell_type": "markdown",
      "metadata": {
        "colab_type": "text",
        "id": "Qs3hsNq4RWmW"
      },
      "source": [
        "## Training Utilities"
      ]
    },
    {
      "cell_type": "code",
      "metadata": {
        "id": "NNe12whuSlnq",
        "colab_type": "code",
        "colab": {}
      },
      "source": [
        "def binary_accuracy(preds, y):\n",
        "    \"\"\"\n",
        "    Returns accuracy per batch, i.e. if you get 8/10 right, this returns 0.8, NOT 8\n",
        "    \"\"\"\n",
        "\n",
        "    #round predictions to the closest integer\n",
        "    rounded_preds = torch.round(torch.sigmoid(preds))\n",
        "    correct = (rounded_preds == y).float() #convert into float for division \n",
        "    acc = correct.sum() / len(correct)\n",
        "    return acc"
      ],
      "execution_count": 0,
      "outputs": []
    },
    {
      "cell_type": "code",
      "metadata": {
        "id": "I_zTGTDbSlnv",
        "colab_type": "code",
        "colab": {}
      },
      "source": [
        "from sklearn.metrics import roc_auc_score, average_precision_score\n",
        "\n",
        "def train(model, iterator, optimizer, criterion, weight_by_length=False):\n",
        "    \n",
        "    epoch_loss = 0\n",
        "    epoch_acc = 0\n",
        "    \n",
        "    model.train()\n",
        "    \n",
        "    all_predictions = []\n",
        "    all_y_true = []\n",
        "    \n",
        "    for batch in iterator:       \n",
        "        optimizer.zero_grad()\n",
        "        \n",
        "        text, text_lengths = batch.text\n",
        "\n",
        "        predictions = model(text).squeeze(1)\n",
        "        \n",
        "        loss = criterion(predictions, batch.label)\n",
        "        \n",
        "        acc = binary_accuracy(predictions, batch.label)\n",
        "\n",
        "        if weight_by_length:\n",
        "          sample_weight = torch.log(text_lengths.float())\n",
        "          #print(sample_weight)\n",
        "          loss = sample_weight * loss\n",
        "\n",
        "        loss = loss.mean()\n",
        "        \n",
        "        loss.backward()\n",
        "        \n",
        "        optimizer.step()\n",
        "        \n",
        "        epoch_loss += loss.item()\n",
        "        epoch_acc += acc.item()\n",
        "\n",
        "        all_predictions.append(predictions.cpu().detach().numpy())\n",
        "        all_y_true.append(batch.label.cpu().detach().numpy())\n",
        "\n",
        "    \n",
        "    all_y_true = np.hstack(all_y_true)\n",
        "    all_predictions = np.hstack(all_predictions)\n",
        "    auc_score = roc_auc_score(all_y_true, all_predictions)   \n",
        "    ap_score = average_precision_score(all_y_true, all_predictions) \n",
        "    \n",
        "    return epoch_loss / len(iterator), epoch_acc / len(iterator), auc_score, ap_score"
      ],
      "execution_count": 0,
      "outputs": []
    },
    {
      "cell_type": "code",
      "metadata": {
        "id": "j1daLxycSlny",
        "colab_type": "code",
        "colab": {}
      },
      "source": [
        "def evaluate(model, iterator, criterion, weight_by_length=False):\n",
        "    \n",
        "    epoch_loss = 0\n",
        "    epoch_acc = 0\n",
        "    \n",
        "    model.eval()\n",
        "    \n",
        "    with torch.no_grad():\n",
        "        all_predictions = []\n",
        "        all_y_true = []\n",
        "    \n",
        "        for batch in iterator:\n",
        "            text, text_lengths = batch.text\n",
        "            predictions = model(text).squeeze(1)\n",
        "            \n",
        "            loss = criterion(predictions, batch.label)\n",
        "\n",
        "            if weight_by_length:\n",
        "              sample_weight = torch.log(text_lengths.float())\n",
        "              #print(sample_weight)\n",
        "              loss = sample_weight * loss\n",
        "\n",
        "            loss = loss.mean()\n",
        "                \n",
        "            acc = binary_accuracy(predictions, batch.label)\n",
        "\n",
        "            all_predictions.append(predictions.cpu().numpy())\n",
        "            all_y_true.append(batch.label.cpu().numpy())\n",
        "\n",
        "            epoch_loss += loss.item()\n",
        "            epoch_acc += acc.item()\n",
        "    \n",
        "    all_y_true = np.hstack(all_y_true)\n",
        "    all_predictions = np.hstack(all_predictions)\n",
        "    auc_score = roc_auc_score(all_y_true, all_predictions)   \n",
        "    ap_score = average_precision_score(all_y_true, all_predictions)  \n",
        "    return epoch_loss / len(iterator), epoch_acc / len(iterator), auc_score, ap_score"
      ],
      "execution_count": 0,
      "outputs": []
    },
    {
      "cell_type": "code",
      "metadata": {
        "id": "-MwLB3fDSln0",
        "colab_type": "code",
        "colab": {}
      },
      "source": [
        "import time\n",
        "\n",
        "def epoch_time(start_time, end_time):\n",
        "    elapsed_time = end_time - start_time\n",
        "    elapsed_mins = int(elapsed_time / 60)\n",
        "    elapsed_secs = int(elapsed_time - (elapsed_mins * 60))\n",
        "    return elapsed_mins, elapsed_secs"
      ],
      "execution_count": 0,
      "outputs": []
    },
    {
      "cell_type": "code",
      "metadata": {
        "id": "6IS8ileNY7e_",
        "colab_type": "code",
        "colab": {}
      },
      "source": [
        "import matplotlib.pyplot as plt\n",
        "from IPython.display import clear_output\n",
        "from collections import OrderedDict\n",
        "\n",
        "class StatsTracker():\n",
        "  def __init__(self, plot_freq=5):\n",
        "    self.counter = 0\n",
        "    self.plot_freq = plot_freq\n",
        "    self._metrics = OrderedDict({})\n",
        "\n",
        "  def _make_plot(self):\n",
        "      fig, ax = plt.subplots(1, len(self._metrics.keys()), squeeze=False, figsize=(18,4))\n",
        "      for i, metric in enumerate(self._metrics.keys()):\n",
        "        train_metric = self._metrics[metric]['train']\n",
        "        valid_metric = self._metrics[metric]['valid']\n",
        "        ax[0, i].plot(list(range(len(train_metric))), train_metric, c='b', label='Train', marker='.')\n",
        "        ax[0, i].plot(list(range(len(valid_metric))), valid_metric, c='r', label='Valid', marker='.')\n",
        "        ax[0, i].set_ylabel(metric)\n",
        "        ax[0, i].set_xlabel('epochs')\n",
        "        ax[0, i].legend(loc='upper right')\n",
        "\n",
        "  def plot(self):\n",
        "    # will plot the current loss_graph every plot_freq^th call to plot\n",
        "    self.counter += 1\n",
        "    print('eyo')\n",
        "    print(self.counter)\n",
        "    print(self.counter % self.plot_freq)\n",
        "    if (self.counter % self.plot_freq == 0):\n",
        "      print('hey')\n",
        "      fig = self._make_plot()\n",
        "      clear_output()\n",
        "      plt.show()\n",
        "      #fig.close()\n",
        "\n",
        "  def save(self, path):\n",
        "    # save the current loss_graph to the given path\n",
        "    self._make_plot()\n",
        "    plt.savefig(path)\n",
        "    plt.close()\n",
        "\n",
        "  def log(self, value, metric, setting='train'):\n",
        "    assert(setting == 'train' or setting == 'valid')\n",
        "    if metric not in self._metrics.keys():\n",
        "      self._metrics[metric] = {'train': [], 'valid': []}\n",
        "    self._metrics[metric][setting].append(value)"
      ],
      "execution_count": 0,
      "outputs": []
    },
    {
      "cell_type": "markdown",
      "metadata": {
        "id": "57wDv_h8Sln3",
        "colab_type": "text"
      },
      "source": [
        "## Define Model Parameters and Training Hyperparameters"
      ]
    },
    {
      "cell_type": "code",
      "metadata": {
        "id": "THtNfnvASO86",
        "colab_type": "code",
        "colab": {}
      },
      "source": [
        "MAX_VOCAB_SIZE = 25000\n",
        "EMBEDDING_NAME = \"glove.6B.100d\"\n",
        "\n",
        "TEXT.build_vocab(train_data, \n",
        "                 max_size = MAX_VOCAB_SIZE, \n",
        "                 vectors = \"glove.6B.100d\", \n",
        "                 unk_init = torch.Tensor.normal_)\n",
        "\n",
        "LABEL.build_vocab(train_data)"
      ],
      "execution_count": 0,
      "outputs": []
    },
    {
      "cell_type": "code",
      "metadata": {
        "id": "ZVWpMGaXSlnJ",
        "colab_type": "code",
        "colab": {}
      },
      "source": [
        "BATCH_SIZE = 512\n",
        "\n",
        "device = torch.device('cuda' if torch.cuda.is_available() else 'cpu')\n",
        "\n",
        "train_iterator = data.BucketIterator(train_data, train=True, sort=True, batch_size = BATCH_SIZE, device = device)\n",
        "valid_iterator = data.BucketIterator(valid_data, train=False, sort=True, batch_size = BATCH_SIZE, device = device)"
      ],
      "execution_count": 0,
      "outputs": []
    },
    {
      "cell_type": "code",
      "metadata": {
        "id": "LH02YKGDp9bn",
        "colab_type": "code",
        "colab": {
          "base_uri": "https://localhost:8080/",
          "height": 581
        },
        "outputId": "c67edb3f-50d5-44dc-fa79-3d487bdd3acb"
      },
      "source": [
        "train_lens = []\n",
        "valid_lens = []\n",
        "\n",
        "for batch in train_iterator:\n",
        "  train_lens.append(batch.text[0].shape[1])\n",
        "\n",
        "for batch in valid_iterator:\n",
        "  valid_lens.append(batch.text[0].shape[1])\n",
        "\n",
        "import pandas as pd\n",
        "train_df = pd.DataFrame(train_lens)\n",
        "valid_df = pd.DataFrame(valid_lens)\n",
        "\n",
        "train_df.plot.kde()\n",
        "valid_df.plot.kde()\n",
        "\n",
        "print(train_lens[0], train_lens[0] == 3256)\n",
        "print(train_lens[1], train_lens[1] == 2253)\n",
        "print(valid_lens[0], valid_lens[0] == 2996)\n",
        "print(valid_lens[1], valid_lens[1] == 2834)"
      ],
      "execution_count": 13,
      "outputs": [
        {
          "output_type": "stream",
          "text": [
            "51 False\n",
            "53 False\n",
            "54 False\n",
            "59 False\n"
          ],
          "name": "stdout"
        },
        {
          "output_type": "display_data",
          "data": {
            "image/png": "[encoded data removed]",
            "text/plain": [
              "<Figure size 432x288 with 1 Axes>"
            ]
          },
          "metadata": {
            "tags": []
          }
        },
        {
          "output_type": "display_data",
          "data": {
            "image/png": "[encoded data removed]",
            "text/plain": [
              "<Figure size 432x288 with 1 Axes>"
            ]
          },
          "metadata": {
            "tags": []
          }
        }
      ]
    },
    {
      "cell_type": "code",
      "metadata": {
        "id": "mcr5VBPhSlnX",
        "colab_type": "code",
        "colab": {
          "base_uri": "https://localhost:8080/",
          "height": 119
        },
        "outputId": "d504d78a-3f50-4fdf-8bca-13ab245a612e"
      },
      "source": [
        "INPUT_DIM = len(TEXT.vocab)\n",
        "EMBEDDING_DIM = TEXT.vocab.vectors.shape[1]\n",
        "N_FILTERS = 100\n",
        "FILTER_SIZES = [2, 3, 4, 5]\n",
        "OUTPUT_DIM = 1\n",
        "DROPOUT = 0.8\n",
        "PAD_IDX = TEXT.vocab.stoi[TEXT.pad_token]\n",
        "\n",
        "model = CNN(INPUT_DIM, EMBEDDING_DIM, N_FILTERS, FILTER_SIZES, OUTPUT_DIM, DROPOUT, PAD_IDX)\n",
        "\n",
        "pretrained_embeddings = TEXT.vocab.vectors\n",
        "\n",
        "model.embedding.weight.data.copy_(pretrained_embeddings)\n",
        "\n",
        "UNK_IDX = TEXT.vocab.stoi[TEXT.unk_token]\n",
        "\n",
        "model.embedding.weight.data[UNK_IDX] = torch.zeros(EMBEDDING_DIM)\n",
        "model.embedding.weight.data[PAD_IDX] = torch.zeros(EMBEDDING_DIM)\n",
        "\n",
        "USE_GLOROT = True\n",
        "# intialisation\n",
        "for m in model.modules():\n",
        "  if(isinstance(m, nn.Conv2d) or isinstance(m, nn.Linear)):\n",
        "    print('yeppers')\n",
        "    m.weight.data = nn.init.xavier_uniform_(m.weight.data, gain=nn.init.calculate_gain('relu')) "
      ],
      "execution_count": 14,
      "outputs": [
        {
          "output_type": "stream",
          "text": [
            "yeppers\n",
            "yeppers\n",
            "yeppers\n",
            "yeppers\n",
            "yeppers\n",
            "yeppers\n"
          ],
          "name": "stdout"
        }
      ]
    },
    {
      "cell_type": "code",
      "metadata": {
        "id": "x7kYthbgSzUb",
        "colab_type": "code",
        "colab": {
          "base_uri": "https://localhost:8080/",
          "height": 34
        },
        "outputId": "8e6330af-1fc0-4467-f56b-f1a097902eeb"
      },
      "source": [
        "import torch.optim as optim\n",
        "\n",
        "optimizer = optim.Adam(model.parameters(), lr=0.00025, weight_decay=0.1)\n",
        "\n",
        "pos_weight = len(docs[docs['scum'] == False])/len(docs[docs['scum'] == True])\n",
        "criterion = nn.BCEWithLogitsLoss(pos_weight=torch.Tensor([pos_weight]), reduction='none')\n",
        "print('positive weight:', pos_weight)\n",
        "\n",
        "model = model.to(device)\n",
        "criterion = criterion.to(device)"
      ],
      "execution_count": 15,
      "outputs": [
        {
          "output_type": "stream",
          "text": [
            "positive weight: 3.2006570351289803\n"
          ],
          "name": "stdout"
        }
      ]
    },
    {
      "cell_type": "markdown",
      "metadata": {
        "id": "sostzakUSqAU",
        "colab_type": "text"
      },
      "source": [
        "## Training Loop"
      ]
    },
    {
      "cell_type": "code",
      "metadata": {
        "scrolled": true,
        "id": "iXyGhN2-Sln4",
        "colab_type": "code",
        "colab": {
          "base_uri": "https://localhost:8080/",
          "height": 350
        },
        "outputId": "949c2f0f-36e1-4f80-909a-e0779dff7d9c"
      },
      "source": [
        "N_EPOCHS = 30\n",
        "WEIGHT_BY_LENGTH = False\n",
        "best_valid_loss = float('inf')\n",
        "tracker = StatsTracker(plot_freq=1)\n",
        "valid_loss, valid_acc, valid_auc, valid_ap = evaluate(model, valid_iterator, criterion, weight_by_length=WEIGHT_BY_LENGTH)\n",
        "tracker.log(valid_loss, 'loss', setting='valid')\n",
        "tracker.log(valid_acc, 'accuracy', setting='valid')\n",
        "tracker.log(valid_auc, 'AUC', setting='valid')\n",
        "tracker.log(valid_ap, 'AP', setting='valid')\n",
        "\n",
        "for epoch in range(N_EPOCHS):\n",
        "\n",
        "    start_time = time.time()\n",
        "    \n",
        "    train_loss, train_acc, train_auc, train_ap = train(model, train_iterator, optimizer, criterion, weight_by_length=WEIGHT_BY_LENGTH)\n",
        "    valid_loss, valid_acc, valid_auc, valid_ap = evaluate(model, valid_iterator, criterion, weight_by_length=WEIGHT_BY_LENGTH)\n",
        "    \n",
        "    end_time = time.time()\n",
        "\n",
        "    epoch_mins, epoch_secs = epoch_time(start_time, end_time)\n",
        "    \n",
        "    if valid_loss < best_valid_loss:\n",
        "        best_valid_loss = valid_loss\n",
        "        torch.save(model.state_dict(), 'best-model.pt')\n",
        "\n",
        "    tracker.log(train_loss, 'loss', setting='train')\n",
        "    tracker.log(valid_loss, 'loss', setting='valid')\n",
        "    tracker.log(train_acc, 'accuracy', setting='train')\n",
        "    tracker.log(valid_acc, 'accuracy', setting='valid')\n",
        "    tracker.log(train_auc, 'AUC', setting='train')\n",
        "    tracker.log(valid_auc, 'AUC', setting='valid')\n",
        "    tracker.log(train_ap, 'AP', setting='train')\n",
        "    tracker.log(valid_ap, 'AP', setting='valid')\n",
        "    tracker.plot()\n",
        "\n",
        "    print(f'Epoch: {epoch+1:02} | Epoch Time: {epoch_mins}m {epoch_secs}s')\n",
        "    print(f'\\tTrain Loss: {train_loss:.3f} | Train Acc: {train_acc*100:.2f}% | Train AUC: {train_auc:.3f} | Train AP: {train_ap:.3f}')\n",
        "    print(f'\\t Val. Loss: {valid_loss:.3f} |  Val. Acc: {valid_acc*100:.2f}% | Val. AUC: {valid_auc:.3f} | Val. AP: {valid_ap:.3f}')\n",
        "\n",
        "# write results for future reference ;)\n",
        "save_path = 'drive/My Drive/model:N_FILTERS[{}]_FILTER_SIZES[{}]_DROPOUT[{}]_VOCAB_SIZE[{}]_EMBED[{}]_OPTIM[{}]_WEIGHT_BY_LENGTH[{}]'.format(\n",
        "    str(N_FILTERS),\n",
        "    str(FILTER_SIZES),\n",
        "    DROPOUT,\n",
        "    MAX_VOCAB_SIZE,\n",
        "    EMBEDDING_NAME,\n",
        "    '_'.join(str(optimizer).split('\\n')),\n",
        "    WEIGHT_BY_LENGTH\n",
        ")\n",
        "\n",
        "tracker.save(save_path + '.png')\n",
        "    "
      ],
      "execution_count": 0,
      "outputs": [
        {
          "output_type": "display_data",
          "data": {
            "image/png": "[encoded data removed]",
            "text/plain": [
              "<Figure size 1296x288 with 4 Axes>"
            ]
          },
          "metadata": {
            "tags": []
          }
        },
        {
          "output_type": "stream",
          "text": [
            "Epoch: 08 | Epoch Time: 0m 12s\n",
            "\tTrain Loss: 1.052 | Train Acc: 51.27% | Train AUC: 0.535 | Train AP: 0.260\n",
            "\t Val. Loss: 1.049 |  Val. Acc: 34.29% | Val. AUC: 0.499 | Val. AP: 0.237\n"
          ],
          "name": "stdout"
        }
      ]
    },
    {
      "cell_type": "code",
      "metadata": {
        "id": "1sw_-NJaCwQ-",
        "colab_type": "code",
        "colab": {}
      },
      "source": [
        " torch.save(model.state_dict(), 'final-model.pt')"
      ],
      "execution_count": 0,
      "outputs": []
    },
    {
      "cell_type": "code",
      "metadata": {
        "id": "ddiavInFgNpS",
        "colab_type": "code",
        "colab": {}
      },
      "source": [
        "test_iterator = data.BucketIterator(test_data, batch_size = BATCH_SIZE, device = device)"
      ],
      "execution_count": 0,
      "outputs": []
    },
    {
      "cell_type": "code",
      "metadata": {
        "id": "TXsCLMYaduEG",
        "colab_type": "code",
        "colab": {}
      },
      "source": [
        "best_model = CNN(INPUT_DIM, EMBEDDING_DIM, N_FILTERS, FILTER_SIZES, OUTPUT_DIM, DROPOUT, PAD_IDX)\n",
        "best_model.load_state_dict(torch.load('best-model.pt'))\n",
        "best_model = best_model.to(device)\n",
        "\n",
        "test_loss, test_acc, test_auc, test_ap = evaluate(best_model, test_iterator, criterion)\n",
        "\n",
        "print(f'\\t Test. Loss: {test_loss:.3f} |  Test. Acc: {test_acc*100:.2f}% | Test. AUC: {test_auc:.3f} | Test. AP: {test_ap:.3f}')\n"
      ],
      "execution_count": 0,
      "outputs": []
    },
    {
      "cell_type": "code",
      "metadata": {
        "id": "WV2XJGZRgU1W",
        "colab_type": "code",
        "colab": {}
      },
      "source": [
        "FINAL_DOCS_PATH = 'drive/My Drive/MAFIA_DATA/full_10000_docs.pkl'\n",
        "\n",
        "final_docs = pd.read_pickle(FINAL_DOCS_PATH)\n",
        "final_docs = final_docs.sample(frac=1, )\n",
        "\n",
        "print(len(final_docs))"
      ],
      "execution_count": 0,
      "outputs": []
    },
    {
      "cell_type": "code",
      "metadata": {
        "id": "XriD_4pIhbBA",
        "colab_type": "code",
        "colab": {}
      },
      "source": [
        "final_docs"
      ],
      "execution_count": 0,
      "outputs": []
    },
    {
      "cell_type": "code",
      "metadata": {
        "id": "gaD7znzBIYWq",
        "colab_type": "code",
        "colab": {}
      },
      "source": [
        ""
      ],
      "execution_count": 0,
      "outputs": []
    },
    {
      "cell_type": "code",
      "metadata": {
        "id": "yMT52uDWJhWo",
        "colab_type": "code",
        "colab": {}
      },
      "source": [
        ""
      ],
      "execution_count": 0,
      "outputs": []
    }
  ]
}
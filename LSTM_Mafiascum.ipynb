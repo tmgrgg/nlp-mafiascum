{
  "nbformat": 4,
  "nbformat_minor": 0,
  "metadata": {
    "kernelspec": {
      "name": "python3",
      "display_name": "Python 3"
    },
    "language_info": {
      "codemirror_mode": {
        "name": "ipython",
        "version": 3
      },
      "file_extension": ".py",
      "mimetype": "text/x-python",
      "name": "python",
      "nbconvert_exporter": "python",
      "pygments_lexer": "ipython3",
      "version": "3.7.0"
    },
    "colab": {
      "name": "LSTM_Mafiascum.ipynb",
      "provenance": [],
      "collapsed_sections": [],
      "machine_shape": "hm",
      "include_colab_link": true
    },
    "accelerator": "GPU"
  },
  "cells": [
    {
      "cell_type": "markdown",
      "metadata": {
        "id": "view-in-github",
        "colab_type": "text"
      },
      "source": [
        "<a href=\"https://colab.research.google.com/github/tmgrgg/nlp-mafiascum/blob/master/LSTM_Mafiascum.ipynb\" target=\"_parent\"><img src=\"https://colab.research.google.com/assets/colab-badge.svg\" alt=\"Open In Colab\"/></a>"
      ]
    },
    {
      "cell_type": "code",
      "metadata": {
        "colab_type": "code",
        "id": "6XyDEqvlWV35",
        "outputId": "a21ec70b-1842-4483-979b-42cf5db33cd9",
        "colab": {
          "base_uri": "https://localhost:8080/",
          "height": 34
        }
      },
      "source": [
        "#We'll need this to be able to cache stuff without blowing up RAM\n",
        "\n",
        "from google.colab import drive\n",
        "drive.mount('/content/drive')"
      ],
      "execution_count": 0,
      "outputs": [
        {
          "output_type": "stream",
          "text": [
            "Drive already mounted at /content/drive; to attempt to forcibly remount, call drive.mount(\"/content/drive\", force_remount=True).\n"
          ],
          "name": "stdout"
        }
      ]
    },
    {
      "cell_type": "code",
      "metadata": {
        "colab_type": "code",
        "id": "btenycqwWWO4",
        "outputId": "6c17239c-a65a-403c-fd6c-a3a9170b5615",
        "colab": {
          "base_uri": "https://localhost:8080/",
          "height": 51
        }
      },
      "source": [
        "!git clone https://bitbucket.org/bopjesvla/thesis.git\n",
        "!mv thesis/src/* ."
      ],
      "execution_count": 0,
      "outputs": [
        {
          "output_type": "stream",
          "text": [
            "fatal: destination path 'thesis' already exists and is not an empty directory.\n",
            "mv: cannot stat 'thesis/src/*': No such file or directory\n"
          ],
          "name": "stdout"
        }
      ]
    },
    {
      "cell_type": "code",
      "metadata": {
        "id": "FFpJS9XRolk1",
        "colab_type": "code",
        "outputId": "50476f24-0cb8-4081-872c-56b0849483e3",
        "colab": {
          "base_uri": "https://localhost:8080/",
          "height": 34
        }
      },
      "source": [
        "import pandas as pd\n",
        "import numpy as np\n",
        "\n",
        "DOCS_PATH = 'drive/My Drive/24h_of_deception_basic.pkl'\n",
        "\n",
        "docs = pd.read_pickle(DOCS_PATH)\n",
        "docs = docs.sample(frac=1)\n",
        "\n",
        "print(len(docs))"
      ],
      "execution_count": 0,
      "outputs": [
        {
          "output_type": "stream",
          "text": [
            "112523\n"
          ],
          "name": "stdout"
        }
      ]
    },
    {
      "cell_type": "code",
      "metadata": {
        "colab_type": "code",
        "id": "2bZQGvogWX39",
        "colab": {}
      },
      "source": [
        "GPU_IS_BREAKING = False\n",
        "\n",
        "if GPU_IS_BREAKING:\n",
        "  WORD_LIMIT = 5000\n",
        "  docs = docs[docs['words'].apply(len) < WORD_LIMIT]"
      ],
      "execution_count": 0,
      "outputs": []
    },
    {
      "cell_type": "code",
      "metadata": {
        "id": "ulU8KBSmrFgZ",
        "colab_type": "code",
        "colab": {}
      },
      "source": [
        "import torch\n",
        "\n",
        "SEED = 1234\n",
        "\n",
        "torch.manual_seed(SEED)\n",
        "torch.backends.cudnn.deterministic = True"
      ],
      "execution_count": 0,
      "outputs": []
    },
    {
      "cell_type": "markdown",
      "metadata": {
        "id": "RYyoWKwiSIVK",
        "colab_type": "text"
      },
      "source": [
        "# Build Dataset\n"
      ]
    },
    {
      "cell_type": "code",
      "metadata": {
        "colab_type": "code",
        "id": "5oMsLyWTWYNk",
        "colab": {}
      },
      "source": [
        "from torchtext import data\n",
        "\n",
        "class DataFrameDataset(data.Dataset):\n",
        "\n",
        "    def __init__(self, df, text_field, label_field, **kwargs):\n",
        "        fields = [('text', text_field), ('label', label_field), ('index', Field(sequential=False, use_vocab=False))]\n",
        "        examples = []\n",
        "        for i, row in df.iterrows():\n",
        "            label = row.scum \n",
        "            text = row.words\n",
        "            examples.append(data.Example.fromlist([text, label, i], fields))\n",
        "\n",
        "        super().__init__(examples, fields, **kwargs)\n",
        "\n",
        "    @staticmethod\n",
        "    def sort_key(ex):\n",
        "        return len(ex.text)\n",
        "\n",
        "import torch\n",
        "from torchtext.data import Field, LabelField\n",
        "\n",
        "# define Fields\n",
        "TEXT = Field(sequential=True, include_lengths=True)\n",
        "LABEL = LabelField(dtype=torch.float)\n",
        "#LABEL = LabelField(dtype=torch.long)\n",
        "\n",
        "# define Dataset\n",
        "dataset = DataFrameDataset(docs, TEXT, LABEL)\n",
        "\n",
        "import random\n",
        "\n",
        "train_data, test_data = dataset.split(split_ratio=0.8)\n",
        "train_data, valid_data = train_data.split(split_ratio = 0.8, random_state= random.seed(SEED))"
      ],
      "execution_count": 0,
      "outputs": []
    },
    {
      "cell_type": "markdown",
      "metadata": {
        "id": "PGWLFSNArtKc",
        "colab_type": "text"
      },
      "source": [
        "# Specify Model"
      ]
    },
    {
      "cell_type": "code",
      "metadata": {
        "id": "pnOD1GVRSIXa",
        "colab_type": "code",
        "colab": {}
      },
      "source": [
        "import torch.nn as nn\n",
        "\n",
        "class RNN(nn.Module):\n",
        "    def __init__(self, vocab_size, embedding_dim, hidden_dim, output_dim, n_layers, \n",
        "                 bidirectional, dropout, pad_idx):\n",
        "        \n",
        "        super().__init__()\n",
        "        \n",
        "        self.embedding = nn.Embedding(vocab_size, embedding_dim, padding_idx = pad_idx)\n",
        "        \n",
        "        self.rnn = nn.LSTM(embedding_dim, \n",
        "                           hidden_dim, \n",
        "                           num_layers=n_layers, \n",
        "                           bidirectional=bidirectional, \n",
        "                           dropout=dropout)\n",
        "        \n",
        "        self.fc = nn.Linear(hidden_dim * 2, output_dim)\n",
        "        \n",
        "        self.dropout = nn.Dropout(dropout)\n",
        "        \n",
        "    def forward(self, text, text_lengths):\n",
        "        \n",
        "        #text = [sent len, batch size]\n",
        "        \n",
        "        embedded = self.dropout(self.embedding(text))\n",
        "        \n",
        "        #embedded = [sent len, batch size, emb dim]\n",
        "        \n",
        "        #pack sequence\n",
        "        packed_embedded = nn.utils.rnn.pack_padded_sequence(embedded, text_lengths)\n",
        "        \n",
        "        packed_output, (hidden, cell) = self.rnn(packed_embedded)\n",
        "        \n",
        "        #unpack sequence\n",
        "        output, output_lengths = nn.utils.rnn.pad_packed_sequence(packed_output)\n",
        "\n",
        "        #output = [sent len, batch size, hid dim * num directions]\n",
        "        #output over padding tokens are zero tensors\n",
        "        \n",
        "        #hidden = [num layers * num directions, batch size, hid dim]\n",
        "        #cell = [num layers * num directions, batch size, hid dim]\n",
        "        \n",
        "        #concat the final forward (hidden[-2,:,:]) and backward (hidden[-1,:,:]) hidden layers\n",
        "        #and apply dropout\n",
        "        \n",
        "        hidden = self.dropout(torch.cat((hidden[-2,:,:], hidden[-1,:,:]), dim = 1))\n",
        "                \n",
        "        #hidden = [batch size, hid dim * num directions]\n",
        "            \n",
        "        return self.fc(hidden)"
      ],
      "execution_count": 0,
      "outputs": []
    },
    {
      "cell_type": "markdown",
      "metadata": {
        "id": "Z0nZXzM4s-y_",
        "colab_type": "text"
      },
      "source": [
        "# TRAINING"
      ]
    },
    {
      "cell_type": "markdown",
      "metadata": {
        "id": "ItcsODL9tA_d",
        "colab_type": "text"
      },
      "source": [
        "## Training Utilities"
      ]
    },
    {
      "cell_type": "code",
      "metadata": {
        "id": "TmguvaaWSIX9",
        "colab_type": "code",
        "colab": {}
      },
      "source": [
        "def binary_accuracy(preds, y):\n",
        "    \"\"\"\n",
        "    Returns accuracy per batch, i.e. if you get 8/10 right, this returns 0.8, NOT 8\n",
        "    \"\"\"\n",
        "\n",
        "    #round predictions to the closest integer\n",
        "    rounded_preds = torch.round(torch.sigmoid(preds))\n",
        "    correct = (rounded_preds == y).float() #convert into float for division \n",
        "    acc = correct.sum() / len(correct)\n",
        "    return acc"
      ],
      "execution_count": 0,
      "outputs": []
    },
    {
      "cell_type": "code",
      "metadata": {
        "id": "7-v8nnY4SIYB",
        "colab_type": "code",
        "colab": {}
      },
      "source": [
        "from sklearn.metrics import roc_auc_score, average_precision_score\n",
        "\n",
        "def train(model, iterator, optimizer, criterion):\n",
        "    \n",
        "    epoch_loss = 0\n",
        "    epoch_acc = 0\n",
        "    \n",
        "    model.train()\n",
        "    \n",
        "    all_predictions = []\n",
        "    all_y_true = []\n",
        "    \n",
        "    for batch in iterator:       \n",
        "        optimizer.zero_grad()\n",
        "\n",
        "        text, text_lengths = batch.text\n",
        "        \n",
        "        predictions = model(text, text_lengths).squeeze(1)\n",
        "                \n",
        "        loss = criterion(predictions, batch.label)\n",
        "        \n",
        "        acc = binary_accuracy(predictions, batch.label)\n",
        "        \n",
        "        loss.backward()\n",
        "        \n",
        "        optimizer.step()\n",
        "        \n",
        "        epoch_loss += loss.item()\n",
        "        epoch_acc += acc.item()\n",
        "\n",
        "        all_predictions.append(predictions.cpu().detach().numpy())\n",
        "        all_y_true.append(batch.label.cpu().detach().numpy())\n",
        "\n",
        "    \n",
        "    all_y_true = np.hstack(all_y_true)\n",
        "    all_predictions = np.hstack(all_predictions)\n",
        "    auc_score = roc_auc_score(all_y_true, all_predictions)   \n",
        "    ap_score = average_precision_score(all_y_true, all_predictions) \n",
        "    \n",
        "    return epoch_loss / len(iterator), epoch_acc / len(iterator), auc_score, ap_score"
      ],
      "execution_count": 0,
      "outputs": []
    },
    {
      "cell_type": "code",
      "metadata": {
        "id": "HCS73afQSIYG",
        "colab_type": "code",
        "colab": {}
      },
      "source": [
        "def evaluate(model, iterator, criterion):\n",
        "    \n",
        "    epoch_loss = 0\n",
        "    epoch_acc = 0\n",
        "    \n",
        "    model.eval()\n",
        "    \n",
        "    with torch.no_grad():\n",
        "        all_predictions = []\n",
        "        all_y_true = []\n",
        "    \n",
        "        for batch in iterator:\n",
        "\n",
        "            text, text_lengths = batch.text\n",
        "            \n",
        "            predictions = model(text, text_lengths).squeeze(1)        \n",
        "                \n",
        "            loss = criterion(predictions, batch.label)\n",
        "            \n",
        "            acc = binary_accuracy(predictions, batch.label)\n",
        "\n",
        "            all_predictions.append(predictions.cpu().numpy())\n",
        "            all_y_true.append(batch.label.cpu().numpy())\n",
        "\n",
        "            epoch_loss += loss.item()\n",
        "            epoch_acc += acc.item()\n",
        "    \n",
        "    all_y_true = np.hstack(all_y_true)\n",
        "    all_predictions = np.hstack(all_predictions)\n",
        "    auc_score = roc_auc_score(all_y_true, all_predictions)   \n",
        "    ap_score = average_precision_score(all_y_true, all_predictions)  \n",
        "    return epoch_loss / len(iterator), epoch_acc / len(iterator), auc_score, ap_score"
      ],
      "execution_count": 0,
      "outputs": []
    },
    {
      "cell_type": "code",
      "metadata": {
        "id": "ftl3ZRgBJnjl",
        "colab_type": "code",
        "colab": {}
      },
      "source": [
        "import matplotlib.pyplot as plt\n",
        "from IPython.display import clear_output\n",
        "from collections import OrderedDict\n",
        "\n",
        "class StatsTracker():\n",
        "  def __init__(self, plot_freq=5):\n",
        "    self.counter = 0\n",
        "    self.plot_freq = plot_freq\n",
        "    self._metrics = OrderedDict({})\n",
        "\n",
        "  def _make_plot(self):\n",
        "      fig, ax = plt.subplots(1, len(self._metrics.keys()), squeeze=False, figsize=(18,4))\n",
        "      for i, metric in enumerate(self._metrics.keys()):\n",
        "        train_metric = self._metrics[metric]['train']\n",
        "        valid_metric = self._metrics[metric]['valid']\n",
        "        ax[0, i].plot(list(range(len(train_metric))), train_metric, c='b', label='Train', marker='.')\n",
        "        ax[0, i].plot(list(range(len(valid_metric))), valid_metric, c='r', label='Valid', marker='.')\n",
        "        ax[0, i].set_ylabel(metric)\n",
        "        ax[0, i].set_xlabel('epochs')\n",
        "        ax[0, i].legend(loc='upper right')\n",
        "\n",
        "  def plot(self):\n",
        "    # will plot the current loss_graph every plot_freq^th call to plot\n",
        "    self.counter += 1\n",
        "    print('eyo')\n",
        "    print(self.counter)\n",
        "    print(self.counter % self.plot_freq)\n",
        "    if (self.counter % self.plot_freq == 0):\n",
        "      print('hey')\n",
        "      fig = self._make_plot()\n",
        "      clear_output()\n",
        "      plt.show()\n",
        "      #fig.close()\n",
        "\n",
        "  def save(self, path):\n",
        "    # save the current loss_graph to the given path\n",
        "    self._make_plot()\n",
        "    plt.savefig(path)\n",
        "    plt.close()\n",
        "\n",
        "  def log(self, value, metric, setting='train'):\n",
        "    assert(setting == 'train' or setting == 'valid')\n",
        "    if metric not in self._metrics.keys():\n",
        "      self._metrics[metric] = {'train': [], 'valid': []}\n",
        "    self._metrics[metric][setting].append(value)"
      ],
      "execution_count": 0,
      "outputs": []
    },
    {
      "cell_type": "code",
      "metadata": {
        "id": "PzxDaX25SIYJ",
        "colab_type": "code",
        "colab": {}
      },
      "source": [
        "import time\n",
        "\n",
        "def epoch_time(start_time, end_time):\n",
        "    elapsed_time = end_time - start_time\n",
        "    elapsed_mins = int(elapsed_time / 60)\n",
        "    elapsed_secs = int(elapsed_time - (elapsed_mins * 60))\n",
        "    return elapsed_mins, elapsed_secs"
      ],
      "execution_count": 0,
      "outputs": []
    },
    {
      "cell_type": "markdown",
      "metadata": {
        "id": "RcBsEkwLuALP",
        "colab_type": "text"
      },
      "source": [
        "## Define Model Paramters and Training Hyperparameters"
      ]
    },
    {
      "cell_type": "code",
      "metadata": {
        "id": "n-G3P_cHSIXP",
        "colab_type": "code",
        "colab": {}
      },
      "source": [
        "MAX_VOCAB_SIZE = 25_000\n",
        "\n",
        "TEXT.build_vocab(train_data, \n",
        "                 max_size = MAX_VOCAB_SIZE, \n",
        "                 vectors = \"glove.6B.100d\", \n",
        "                 unk_init = torch.Tensor.normal_)\n",
        "\n",
        "LABEL.build_vocab(train_data)"
      ],
      "execution_count": 0,
      "outputs": []
    },
    {
      "cell_type": "code",
      "metadata": {
        "id": "cAdIxkwcSIXW",
        "colab_type": "code",
        "colab": {}
      },
      "source": [
        "BATCH_SIZE = 64\n",
        "\n",
        "device = torch.device('cuda' if torch.cuda.is_available() else 'cpu')\n",
        "\n",
        "train_iterator, valid_iterator, test_iterator = data.BucketIterator.splits(\n",
        "    (train_data, valid_data, test_data), \n",
        "    batch_size = BATCH_SIZE,\n",
        "    sort_within_batch = True,\n",
        "    device = device)"
      ],
      "execution_count": 0,
      "outputs": []
    },
    {
      "cell_type": "code",
      "metadata": {
        "id": "5O0zIttwSIXe",
        "colab_type": "code",
        "outputId": "3c33bbc6-a8cf-4ff8-fd39-48e8ffaf00ea",
        "colab": {
          "base_uri": "https://localhost:8080/",
          "height": 153
        }
      },
      "source": [
        "INPUT_DIM = len(TEXT.vocab)\n",
        "EMBEDDING_DIM = 100\n",
        "HIDDEN_DIM = 256\n",
        "OUTPUT_DIM = 1\n",
        "N_LAYERS = 1\n",
        "BIDIRECTIONAL = True\n",
        "DROPOUT = 0\n",
        "PAD_IDX = TEXT.vocab.stoi[TEXT.pad_token]\n",
        "\n",
        "model = RNN(INPUT_DIM, \n",
        "            EMBEDDING_DIM, \n",
        "            HIDDEN_DIM, \n",
        "            OUTPUT_DIM, \n",
        "            N_LAYERS, \n",
        "            BIDIRECTIONAL, \n",
        "            DROPOUT, \n",
        "            PAD_IDX)\n",
        "\n",
        "pretrained_embeddings = TEXT.vocab.vectors\n",
        "\n",
        "print(pretrained_embeddings.shape)\n",
        "\n",
        "model.embedding.weight.data.copy_(pretrained_embeddings)\n",
        "UNK_IDX = TEXT.vocab.stoi[TEXT.unk_token]\n",
        "\n",
        "model.embedding.weight.data[UNK_IDX] = torch.zeros(EMBEDDING_DIM)\n",
        "model.embedding.weight.data[PAD_IDX] = torch.zeros(EMBEDDING_DIM)\n",
        "\n",
        "print(model.embedding.weight.data)"
      ],
      "execution_count": 0,
      "outputs": [
        {
          "output_type": "stream",
          "text": [
            "torch.Size([25002, 100])\n",
            "tensor([[ 0.0000,  0.0000,  0.0000,  ...,  0.0000,  0.0000,  0.0000],\n",
            "        [ 0.0000,  0.0000,  0.0000,  ...,  0.0000,  0.0000,  0.0000],\n",
            "        [-0.0465,  0.6197,  0.5665,  ..., -0.3762, -0.0325,  0.8062],\n",
            "        ...,\n",
            "        [ 1.8463, -0.3315, -1.5640,  ...,  1.4021, -0.9135, -1.3111],\n",
            "        [-0.0647,  0.0606,  0.3090,  ...,  0.0614,  1.1674,  0.6288],\n",
            "        [ 0.0464,  0.1875, -0.7104,  ..., -0.0671, -0.4671, -0.6276]])\n"
          ],
          "name": "stdout"
        }
      ]
    },
    {
      "cell_type": "code",
      "metadata": {
        "id": "py0DCeMiSIX1",
        "colab_type": "code",
        "outputId": "d0d2cce2-c7a4-46e0-a0c8-61cb8e948dcb",
        "colab": {
          "base_uri": "https://localhost:8080/",
          "height": 34
        }
      },
      "source": [
        "import torch.optim as optim\n",
        "\n",
        "optimizer = optim.Adam(model.parameters())#, lr=0.001, weight_decay=0.002)\n",
        "\n",
        "pos_weight = len(docs[docs['scum'] == False])/len(docs[docs['scum'] == True])\n",
        "\n",
        "print(pos_weight)\n",
        "\n",
        "criterion = nn.BCEWithLogitsLoss(pos_weight=torch.Tensor([pos_weight]))\n",
        "#criterion = nn.BCEWithLogitsLoss()\n",
        "\n",
        "model = model.to(device)\n",
        "criterion = criterion.to(device)"
      ],
      "execution_count": 0,
      "outputs": [
        {
          "output_type": "stream",
          "text": [
            "3.2006570351289803\n"
          ],
          "name": "stdout"
        }
      ]
    },
    {
      "cell_type": "markdown",
      "metadata": {
        "id": "yVV-ygdvSIXz",
        "colab_type": "text"
      },
      "source": [
        "## Training Loop"
      ]
    },
    {
      "cell_type": "code",
      "metadata": {
        "id": "n8qvwoDzSIYM",
        "colab_type": "code",
        "outputId": "491c34c3-8a72-448c-ae0b-daa51fc48e56",
        "colab": {
          "base_uri": "https://localhost:8080/",
          "height": 333
        }
      },
      "source": [
        "N_EPOCHS = 50\n",
        "\n",
        "best_valid_loss = float('inf')\n",
        "tracker = StatsTracker(plot_freq=1)\n",
        "valid_loss, valid_acc, valid_auc, valid_ap = evaluate(model, valid_iterator, criterion)\n",
        "tracker.log(valid_loss, 'loss', setting='valid')\n",
        "tracker.log(valid_acc, 'accuracy', setting='valid')\n",
        "tracker.log(valid_auc, 'AUC', setting='valid')\n",
        "tracker.log(valid_ap, 'AP', setting='valid')\n",
        "\n",
        "for epoch in range(N_EPOCHS):\n",
        "\n",
        "    start_time = time.time()\n",
        "    \n",
        "    train_loss, train_acc, train_auc, train_ap = train(model, train_iterator, optimizer, criterion)\n",
        "    valid_loss, valid_acc, valid_auc, valid_ap = evaluate(model, valid_iterator, criterion)\n",
        "    \n",
        "    end_time = time.time()\n",
        "\n",
        "    epoch_mins, epoch_secs = epoch_time(start_time, end_time)\n",
        "    \n",
        "    if valid_loss < best_valid_loss:\n",
        "        best_valid_loss = valid_loss\n",
        "        torch.save(model.state_dict(), 'best-model.pt')\n",
        "\n",
        "    tracker.log(train_loss, 'loss', setting='train')\n",
        "    tracker.log(valid_loss, 'loss', setting='valid')\n",
        "    tracker.log(train_acc, 'accuracy', setting='train')\n",
        "    tracker.log(valid_acc, 'accuracy', setting='valid')\n",
        "    tracker.log(train_auc, 'AUC', setting='train')\n",
        "    tracker.log(valid_auc, 'AUC', setting='valid')\n",
        "    tracker.log(train_ap, 'AP', setting='train')\n",
        "    tracker.log(valid_ap, 'AP', setting='valid')\n",
        "    tracker.plot()\n",
        "\n",
        "    print(f'Epoch: {epoch+1:02} | Epoch Time: {epoch_mins}m {epoch_secs}s')\n",
        "    print(f'\\tTrain Loss: {train_loss:.3f} | Train Acc: {train_acc*100:.2f}% | Train AUC: {train_auc:.3f} | Train AP: {train_ap:.3f}')\n",
        "    print(f'\\t Val. Loss: {valid_loss:.3f} |  Val. Acc: {valid_acc*100:.2f}% | Val. AUC: {valid_auc:.3f} | Val. AP: {valid_ap:.3f}')\n"
      ],
      "execution_count": 0,
      "outputs": [
        {
          "output_type": "display_data",
          "data": {
            "image/png": "[encoded data removed]",
            "text/plain": [
              "<Figure size 1296x288 with 4 Axes>"
            ]
          },
          "metadata": {
            "tags": []
          }
        },
        {
          "output_type": "stream",
          "text": [
            "Epoch: 01 | Epoch Time: 1m 11s\n",
            "\tTrain Loss: 1.057 | Train Acc: 49.97% | Train AUC: 0.508 | Train AP: 0.242\n",
            "\t Val. Loss: 1.061 |  Val. Acc: 59.43% | Val. AUC: 0.523 | Val. AP: 0.255\n"
          ],
          "name": "stdout"
        }
      ]
    },
    {
      "cell_type": "markdown",
      "metadata": {
        "id": "Yn615CvBuelW",
        "colab_type": "text"
      },
      "source": [
        "## Check Performance on Test Set"
      ]
    },
    {
      "cell_type": "code",
      "metadata": {
        "id": "dMgNRFFGSIYP",
        "colab_type": "code",
        "colab": {}
      },
      "source": [
        "model.load_state_dict(torch.load('best-lstm.pt'))\n",
        "\n",
        "test_loss, test_acc = evaluate(model, test_iterator, criterion)\n",
        "\n",
        "print(f'Test Loss: {test_loss:.3f} | Test Acc: {test_acc*100:.2f}%')"
      ],
      "execution_count": 0,
      "outputs": []
    }
  ]
}
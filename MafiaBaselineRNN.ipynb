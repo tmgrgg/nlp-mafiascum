{
  "nbformat": 4,
  "nbformat_minor": 0,
  "metadata": {
    "colab": {
      "name": "MafiaBaselineRNN.ipynb",
      "provenance": [],
      "collapsed_sections": [],
      "machine_shape": "hm",
      "include_colab_link": true
    },
    "kernelspec": {
      "name": "python3",
      "display_name": "Python 3"
    },
    "accelerator": "GPU"
  },
  "cells": [
    {
      "cell_type": "markdown",
      "metadata": {
        "id": "view-in-github",
        "colab_type": "text"
      },
      "source": [
        "<a href=\"https://colab.research.google.com/github/tmgrgg/nlp-mafiascum/blob/master/MafiaBaselineRNN.ipynb\" target=\"_parent\"><img src=\"https://colab.research.google.com/assets/colab-badge.svg\" alt=\"Open In Colab\"/></a>"
      ]
    },
    {
      "cell_type": "code",
      "metadata": {
        "id": "V73Ul_To4yT4",
        "colab_type": "code",
        "outputId": "5a4a4c6a-fa61-4918-a1a5-505b5ce7bebb",
        "colab": {
          "base_uri": "https://localhost:8080/",
          "height": 34
        }
      },
      "source": [
        "!git clone https://bitbucket.org/bopjesvla/thesis.git"
      ],
      "execution_count": 2,
      "outputs": [
        {
          "output_type": "stream",
          "text": [
            "fatal: destination path 'thesis' already exists and is not an empty directory.\n"
          ],
          "name": "stdout"
        }
      ]
    },
    {
      "cell_type": "code",
      "metadata": {
        "id": "YvdXdjqL5TEn",
        "colab_type": "code",
        "colab": {
          "base_uri": "https://localhost:8080/",
          "height": 34
        },
        "outputId": "79bdb3af-264a-4442-d1d4-32e65ffe71f9"
      },
      "source": [
        "!mv thesis/src/* ."
      ],
      "execution_count": 3,
      "outputs": [
        {
          "output_type": "stream",
          "text": [
            "mv: cannot stat 'thesis/src/*': No such file or directory\n"
          ],
          "name": "stdout"
        }
      ]
    },
    {
      "cell_type": "code",
      "metadata": {
        "id": "XIkMTfMdQt37",
        "colab_type": "code",
        "colab": {
          "base_uri": "https://localhost:8080/",
          "height": 34
        },
        "outputId": "b0928718-e03a-4dff-cf20-91333515daf9"
      },
      "source": [
        "from google.colab import drive\n",
        "drive.mount('/content/drive')"
      ],
      "execution_count": 4,
      "outputs": [
        {
          "output_type": "stream",
          "text": [
            "Drive already mounted at /content/drive; to attempt to forcibly remount, call drive.mount(\"/content/drive\", force_remount=True).\n"
          ],
          "name": "stdout"
        }
      ]
    },
    {
      "cell_type": "markdown",
      "metadata": {
        "id": "OLG6QJo6G5t_",
        "colab_type": "text"
      },
      "source": [
        "# Pytorch\n"
      ]
    },
    {
      "cell_type": "code",
      "metadata": {
        "id": "karxeL72Q4Sl",
        "colab_type": "code",
        "colab": {}
      },
      "source": [
        "import numpy as np\n",
        "import pandas as pd"
      ],
      "execution_count": 0,
      "outputs": []
    },
    {
      "cell_type": "code",
      "metadata": {
        "id": "9QXt7BzyHIAt",
        "colab_type": "code",
        "outputId": "900ddc04-512b-4ac1-fd66-2875e4fb95d5",
        "colab": {
          "base_uri": "https://localhost:8080/",
          "height": 34
        }
      },
      "source": [
        "import torch\n",
        "import torch.nn as nn\n",
        "from torch import optim\n",
        "import torch.nn.functional as F\n",
        "from torch.utils.data import Dataset\n",
        "\n",
        "device = torch.device(\"cuda\" if torch.cuda.is_available() else \"cpu\")\n",
        "device"
      ],
      "execution_count": 6,
      "outputs": [
        {
          "output_type": "execute_result",
          "data": {
            "text/plain": [
              "device(type='cuda')"
            ]
          },
          "metadata": {
            "tags": []
          },
          "execution_count": 6
        }
      ]
    },
    {
      "cell_type": "code",
      "metadata": {
        "id": "wSlZmjpKG4Du",
        "colab_type": "code",
        "colab": {}
      },
      "source": [
        "class MyDataset(Dataset):\n",
        "    def __init__(self, X, y):\n",
        "        self.X = X\n",
        "        self.y = y\n",
        "    def __getitem__(self, index):\n",
        "        X = self.X[index]\n",
        "        y = self.y[index]\n",
        "        return X, y\n",
        "    def __len__(self):\n",
        "        return len(self.y)"
      ],
      "execution_count": 0,
      "outputs": []
    },
    {
      "cell_type": "markdown",
      "metadata": {
        "id": "PMjZUoNqwvKY",
        "colab_type": "text"
      },
      "source": [
        "# Their Data loader"
      ]
    },
    {
      "cell_type": "code",
      "metadata": {
        "id": "KhZd1XeovZWY",
        "colab_type": "code",
        "outputId": "6d1569c6-9a72-41ff-ec6a-8a71ab69311e",
        "colab": {
          "base_uri": "https://localhost:8080/",
          "height": 34
        }
      },
      "source": [
        "docs = pd.read_pickle('docs.pkl', compression='gzip')\n",
        "print(docs.vector_FastText_wiki[0].shape)"
      ],
      "execution_count": 59,
      "outputs": [
        {
          "output_type": "stream",
          "text": [
            "(300,)\n"
          ],
          "name": "stdout"
        }
      ]
    },
    {
      "cell_type": "code",
      "metadata": {
        "id": "En1WTV2vxZ3M",
        "colab_type": "code",
        "outputId": "e5d7bd03-4bc6-4403-d087-6e3aaa358cf0",
        "colab": {
          "base_uri": "https://localhost:8080/",
          "height": 817
        }
      },
      "source": [
        "docs.head()"
      ],
      "execution_count": 60,
      "outputs": [
        {
          "output_type": "execute_result",
          "data": {
            "text/html": [
              "<div>\n",
              "<style scoped>\n",
              "    .dataframe tbody tr th:only-of-type {\n",
              "        vertical-align: middle;\n",
              "    }\n",
              "\n",
              "    .dataframe tbody tr th {\n",
              "        vertical-align: top;\n",
              "    }\n",
              "\n",
              "    .dataframe thead th {\n",
              "        text-align: right;\n",
              "    }\n",
              "</style>\n",
              "<table border=\"1\" class=\"dataframe\">\n",
              "  <thead>\n",
              "    <tr style=\"text-align: right;\">\n",
              "      <th></th>\n",
              "      <th>game_id</th>\n",
              "      <th>author</th>\n",
              "      <th>content</th>\n",
              "      <th>inserted_at</th>\n",
              "      <th>updated_at</th>\n",
              "      <th>scum</th>\n",
              "      <th>slot_id</th>\n",
              "      <th>words</th>\n",
              "      <th>wc</th>\n",
              "      <th>punc</th>\n",
              "      <th>or_ratio</th>\n",
              "      <th>fpp_ratio</th>\n",
              "      <th>tpp_ratio</th>\n",
              "      <th>but_ratio</th>\n",
              "      <th>token_length</th>\n",
              "      <th>unique_tokens</th>\n",
              "      <th>message_count</th>\n",
              "      <th>message_length</th>\n",
              "      <th>sentence_length</th>\n",
              "      <th>time</th>\n",
              "      <th>wc24h</th>\n",
              "      <th>msg24h</th>\n",
              "      <th>vector_FastText_wiki</th>\n",
              "      <th>vector_GloVe_wiki200d</th>\n",
              "      <th>vector_GloVe_wiki</th>\n",
              "      <th>vector_GloVe_twitter</th>\n",
              "      <th>neg_ratio</th>\n",
              "      <th>neg_em_ratio</th>\n",
              "      <th>not_ratio</th>\n",
              "      <th>anger_ratio</th>\n",
              "      <th>sensory_ratio</th>\n",
              "      <th>cog_ratio</th>\n",
              "      <th>insight_ratio</th>\n",
              "      <th>motion_ratio</th>\n",
              "      <th>tent_ratio</th>\n",
              "      <th>spp_ratio</th>\n",
              "      <th>quant_ratio</th>\n",
              "    </tr>\n",
              "  </thead>\n",
              "  <tbody>\n",
              "    <tr>\n",
              "      <th>0</th>\n",
              "      <td>28480</td>\n",
              "      <td>ThAdmiral</td>\n",
              "      <td>yep /!@ \\nWhat if he is scum? This option woul...</td>\n",
              "      <td>2013-05-15 01:44:00</td>\n",
              "      <td>2013-07-22 00:17:00</td>\n",
              "      <td>False</td>\n",
              "      <td>240</td>\n",
              "      <td>[yep, what, if, he, is, scum, this, option, wo...</td>\n",
              "      <td>2688</td>\n",
              "      <td>[/!@, ?, ', ., :, ', ., /!@, ., ., ., /!@, (, ...</td>\n",
              "      <td>0.003348</td>\n",
              "      <td>0.042039</td>\n",
              "      <td>0.023065</td>\n",
              "      <td>0.006696</td>\n",
              "      <td>4.302455</td>\n",
              "      <td>0.221726</td>\n",
              "      <td>64</td>\n",
              "      <td>42.000000</td>\n",
              "      <td>0.087426</td>\n",
              "      <td>68.939583</td>\n",
              "      <td>38.990662</td>\n",
              "      <td>0.928349</td>\n",
              "      <td>[-0.11273227513899668, 0.018551131866316774, -...</td>\n",
              "      <td>[0.16055721, 0.19409353, -0.09813492, -0.11749...</td>\n",
              "      <td>[-0.11783043, 0.09800706, -0.05116942, -0.0682...</td>\n",
              "      <td>[0.089912206, 0.19500107, 0.054465882, 0.10074...</td>\n",
              "      <td>0.018601</td>\n",
              "      <td>0.013393</td>\n",
              "      <td>0.018601</td>\n",
              "      <td>0.005952</td>\n",
              "      <td>0.017857</td>\n",
              "      <td>0.081101</td>\n",
              "      <td>0.024926</td>\n",
              "      <td>0.004836</td>\n",
              "      <td>0.029762</td>\n",
              "      <td>0.012649</td>\n",
              "      <td>0.013393</td>\n",
              "    </tr>\n",
              "    <tr>\n",
              "      <th>1</th>\n",
              "      <td>5845</td>\n",
              "      <td>Khelvaster</td>\n",
              "      <td>[s]Gah...I don't know anyone. Vote: SPAG, sinc...</td>\n",
              "      <td>2007-08-02 16:33:00</td>\n",
              "      <td>2007-08-27 20:07:00</td>\n",
              "      <td>False</td>\n",
              "      <td>5210</td>\n",
              "      <td>[s, gah, i, don, t, know, anyone, vote, spag, ...</td>\n",
              "      <td>863</td>\n",
              "      <td>[[, ], ..., ', ., :, ,, ', .[/, ], ,, ', ..., ...</td>\n",
              "      <td>0.002317</td>\n",
              "      <td>0.042874</td>\n",
              "      <td>0.022016</td>\n",
              "      <td>0.005794</td>\n",
              "      <td>4.067207</td>\n",
              "      <td>0.403244</td>\n",
              "      <td>15</td>\n",
              "      <td>57.533333</td>\n",
              "      <td>0.092700</td>\n",
              "      <td>26.148611</td>\n",
              "      <td>33.003665</td>\n",
              "      <td>0.573644</td>\n",
              "      <td>[-0.10023690888810728, 0.020833695785571843, -...</td>\n",
              "      <td>[0.14646702, 0.25892192, -0.08927924, -0.17455...</td>\n",
              "      <td>[-0.11812947, 0.10565025, -0.06426784, -0.1109...</td>\n",
              "      <td>[0.0961927, 0.19491331, 0.0321678, 0.071879774...</td>\n",
              "      <td>0.031286</td>\n",
              "      <td>0.006952</td>\n",
              "      <td>0.031286</td>\n",
              "      <td>0.001159</td>\n",
              "      <td>0.016222</td>\n",
              "      <td>0.077636</td>\n",
              "      <td>0.017381</td>\n",
              "      <td>0.006952</td>\n",
              "      <td>0.034762</td>\n",
              "      <td>0.027810</td>\n",
              "      <td>0.015064</td>\n",
              "    </tr>\n",
              "    <tr>\n",
              "      <th>2</th>\n",
              "      <td>30779</td>\n",
              "      <td>Elyse</td>\n",
              "      <td>/confirm /!@ ANNOUNCEMENT\\nThere are NO jester...</td>\n",
              "      <td>2013-08-13 15:28:00</td>\n",
              "      <td>2013-10-11 00:52:00</td>\n",
              "      <td>False</td>\n",
              "      <td>447</td>\n",
              "      <td>[confirm, announcement, there, are, no, jester...</td>\n",
              "      <td>3194</td>\n",
              "      <td>[/, /!@, ,, ., ', !, /!@, ., :, /!@, ', /!@, '...</td>\n",
              "      <td>0.001252</td>\n",
              "      <td>0.051659</td>\n",
              "      <td>0.027239</td>\n",
              "      <td>0.008453</td>\n",
              "      <td>3.933626</td>\n",
              "      <td>0.229493</td>\n",
              "      <td>111</td>\n",
              "      <td>28.774775</td>\n",
              "      <td>0.130244</td>\n",
              "      <td>59.391667</td>\n",
              "      <td>53.778588</td>\n",
              "      <td>1.868949</td>\n",
              "      <td>[-0.09363476607418539, 0.028349871196682513, -...</td>\n",
              "      <td>[0.17497152, 0.21025513, -0.10277278, -0.15136...</td>\n",
              "      <td>[-0.102921024, 0.0764547, -0.06794854, -0.0842...</td>\n",
              "      <td>[0.10085423, 0.16621116, 0.044601005, 0.105791...</td>\n",
              "      <td>0.033500</td>\n",
              "      <td>0.017533</td>\n",
              "      <td>0.033500</td>\n",
              "      <td>0.003444</td>\n",
              "      <td>0.028491</td>\n",
              "      <td>0.100188</td>\n",
              "      <td>0.027552</td>\n",
              "      <td>0.005322</td>\n",
              "      <td>0.022855</td>\n",
              "      <td>0.029430</td>\n",
              "      <td>0.011271</td>\n",
              "    </tr>\n",
              "    <tr>\n",
              "      <th>3</th>\n",
              "      <td>10744</td>\n",
              "      <td>Simpor</td>\n",
              "      <td>/confirm /!@ Vote: AWA\\n\\nFor being the last o...</td>\n",
              "      <td>2009-03-04 21:42:00</td>\n",
              "      <td>2009-03-14 21:23:00</td>\n",
              "      <td>True</td>\n",
              "      <td>6238</td>\n",
              "      <td>[confirm, vote, awa, for, being, the, last, on...</td>\n",
              "      <td>154</td>\n",
              "      <td>[/, /!@, :, .., /!@, ,, ?, !, /!@, ', ,, ., ',...</td>\n",
              "      <td>0.000000</td>\n",
              "      <td>0.064935</td>\n",
              "      <td>0.012987</td>\n",
              "      <td>0.006494</td>\n",
              "      <td>4.071429</td>\n",
              "      <td>0.649351</td>\n",
              "      <td>5</td>\n",
              "      <td>30.800000</td>\n",
              "      <td>0.103896</td>\n",
              "      <td>10.986806</td>\n",
              "      <td>14.016813</td>\n",
              "      <td>0.455091</td>\n",
              "      <td>[-0.1328930663044335, 0.0116366885769277, -0.0...</td>\n",
              "      <td>[0.15854017, 0.26437867, -0.03646247, -0.20398...</td>\n",
              "      <td>[-0.16914089, 0.11391469, -0.057118926, -0.110...</td>\n",
              "      <td>[0.12944503, 0.13376419, 0.008241472, 0.091873...</td>\n",
              "      <td>0.025974</td>\n",
              "      <td>0.006494</td>\n",
              "      <td>0.025974</td>\n",
              "      <td>0.006494</td>\n",
              "      <td>0.012987</td>\n",
              "      <td>0.090909</td>\n",
              "      <td>0.019481</td>\n",
              "      <td>0.000000</td>\n",
              "      <td>0.032468</td>\n",
              "      <td>0.012987</td>\n",
              "      <td>0.038961</td>\n",
              "    </tr>\n",
              "    <tr>\n",
              "      <th>4</th>\n",
              "      <td>10617</td>\n",
              "      <td>blakebowling</td>\n",
              "      <td>Confirm /!@ Vote: blakebowling /!@ Unvote, Vot...</td>\n",
              "      <td>2009-02-20 02:08:00</td>\n",
              "      <td>2009-03-01 03:10:00</td>\n",
              "      <td>False</td>\n",
              "      <td>6200</td>\n",
              "      <td>[confirm, vote, blakebowling, unvote, vote, at...</td>\n",
              "      <td>239</td>\n",
              "      <td>[/!@, :, /!@, ,, :, ., ', ., /!@, /!@, ,, .[/,...</td>\n",
              "      <td>0.000000</td>\n",
              "      <td>0.062762</td>\n",
              "      <td>0.004184</td>\n",
              "      <td>0.000000</td>\n",
              "      <td>3.928870</td>\n",
              "      <td>0.577406</td>\n",
              "      <td>12</td>\n",
              "      <td>19.916667</td>\n",
              "      <td>0.121339</td>\n",
              "      <td>10.043056</td>\n",
              "      <td>23.797538</td>\n",
              "      <td>1.194855</td>\n",
              "      <td>[-0.11159829518160562, 0.030154899912205217, -...</td>\n",
              "      <td>[0.14067383, 0.29263738, -0.18649453, -0.12949...</td>\n",
              "      <td>[-0.089610584, 0.1020354, -0.11109041, -0.0602...</td>\n",
              "      <td>[0.17050445, 0.18049765, 0.07405566, -0.003876...</td>\n",
              "      <td>0.037657</td>\n",
              "      <td>0.025105</td>\n",
              "      <td>0.037657</td>\n",
              "      <td>0.008368</td>\n",
              "      <td>0.016736</td>\n",
              "      <td>0.050209</td>\n",
              "      <td>0.012552</td>\n",
              "      <td>0.020921</td>\n",
              "      <td>0.020921</td>\n",
              "      <td>0.016736</td>\n",
              "      <td>0.000000</td>\n",
              "    </tr>\n",
              "  </tbody>\n",
              "</table>\n",
              "</div>"
            ],
            "text/plain": [
              "   game_id        author  ... spp_ratio quant_ratio\n",
              "0    28480     ThAdmiral  ...  0.012649    0.013393\n",
              "1     5845    Khelvaster  ...  0.027810    0.015064\n",
              "2    30779         Elyse  ...  0.029430    0.011271\n",
              "3    10744        Simpor  ...  0.012987    0.038961\n",
              "4    10617  blakebowling  ...  0.016736    0.000000\n",
              "\n",
              "[5 rows x 37 columns]"
            ]
          },
          "metadata": {
            "tags": []
          },
          "execution_count": 60
        }
      ]
    },
    {
      "cell_type": "code",
      "metadata": {
        "id": "AXnnYg4dpWfR",
        "colab_type": "code",
        "colab": {
          "base_uri": "https://localhost:8080/",
          "height": 781
        },
        "outputId": "a54b3df2-113c-4ab3-9bea-9bf7bf9a0cee"
      },
      "source": [
        "# filter by wordcount to check that RNN works\n",
        "docs['word_count'] = docs['words'].apply(lambda x: len(x))\n",
        "docs = docs[docs['word_count'] < 500]\n",
        "docs = docs[docs['word_count'] > 100]\n",
        "docs.info()"
      ],
      "execution_count": 61,
      "outputs": [
        {
          "output_type": "stream",
          "text": [
            "<class 'pandas.core.frame.DataFrame'>\n",
            "Int64Index: 1207 entries, 3 to 10368\n",
            "Data columns (total 38 columns):\n",
            "game_id                  1207 non-null int64\n",
            "author                   1207 non-null object\n",
            "content                  1207 non-null object\n",
            "inserted_at              1207 non-null datetime64[ns]\n",
            "updated_at               1207 non-null datetime64[ns]\n",
            "scum                     1207 non-null bool\n",
            "slot_id                  1207 non-null int64\n",
            "words                    1207 non-null object\n",
            "wc                       1207 non-null int64\n",
            "punc                     1207 non-null object\n",
            "or_ratio                 1207 non-null float64\n",
            "fpp_ratio                1207 non-null float64\n",
            "tpp_ratio                1207 non-null float64\n",
            "but_ratio                1207 non-null float64\n",
            "token_length             1207 non-null float64\n",
            "unique_tokens            1207 non-null float64\n",
            "message_count            1207 non-null int64\n",
            "message_length           1207 non-null float64\n",
            "sentence_length          1207 non-null float64\n",
            "time                     1207 non-null float64\n",
            "wc24h                    1207 non-null float64\n",
            "msg24h                   1207 non-null float64\n",
            "vector_FastText_wiki     1207 non-null object\n",
            "vector_GloVe_wiki200d    1207 non-null object\n",
            "vector_GloVe_wiki        1207 non-null object\n",
            "vector_GloVe_twitter     1207 non-null object\n",
            "neg_ratio                1207 non-null float64\n",
            "neg_em_ratio             1207 non-null float64\n",
            "not_ratio                1207 non-null float64\n",
            "anger_ratio              1207 non-null float64\n",
            "sensory_ratio            1207 non-null float64\n",
            "cog_ratio                1207 non-null float64\n",
            "insight_ratio            1207 non-null float64\n",
            "motion_ratio             1207 non-null float64\n",
            "tent_ratio               1207 non-null float64\n",
            "spp_ratio                1207 non-null float64\n",
            "quant_ratio              1207 non-null float64\n",
            "word_count               1207 non-null int64\n",
            "dtypes: bool(1), datetime64[ns](2), float64(22), int64(5), object(8)\n",
            "memory usage: 359.5+ KB\n"
          ],
          "name": "stdout"
        }
      ]
    },
    {
      "cell_type": "markdown",
      "metadata": {
        "id": "xPGFDOrQxq8U",
        "colab_type": "text"
      },
      "source": [
        "# RNN needs whole collection of FastText"
      ]
    },
    {
      "cell_type": "code",
      "metadata": {
        "id": "08Am4Zw94dqB",
        "colab_type": "code",
        "outputId": "de1097a4-7196-4579-8ef7-85ce6519a3cc",
        "colab": {
          "base_uri": "https://localhost:8080/",
          "height": 72
        }
      },
      "source": [
        "if False:\n",
        "  import gensim.downloader as api\n",
        "\n",
        "  # care about subword info\n",
        "  info = api.info()  # show info about available models/datasets\n",
        "  wordmodel = api.load(\"fasttext-wiki-news-subwords-300\")  # download the model and return as object ready for use\n",
        "  wordmodel.save(\"drive/My Drive/fasttext.bin\")\n",
        "else:\n",
        "  # don't care about subword info\n",
        "  from gensim.models.keyedvectors import KeyedVectors\n",
        "  wordmodel = KeyedVectors.load(\"drive/My Drive/fasttext.bin\")"
      ],
      "execution_count": 62,
      "outputs": [
        {
          "output_type": "stream",
          "text": [
            "/usr/local/lib/python3.6/dist-packages/smart_open/smart_open_lib.py:402: UserWarning: This function is deprecated, use smart_open.open instead. See the migration notes for details: https://github.com/RaRe-Technologies/smart_open/blob/master/README.rst#migrating-to-the-new-open-function\n",
            "  'See the migration notes for details: %s' % _MIGRATION_NOTES_URL\n"
          ],
          "name": "stderr"
        }
      ]
    },
    {
      "cell_type": "code",
      "metadata": {
        "id": "5bn5s74XOcCy",
        "colab_type": "code",
        "outputId": "c6387986-fbec-4eff-b319-d3a1f2045180",
        "colab": {
          "base_uri": "https://localhost:8080/",
          "height": 250
        }
      },
      "source": [
        "wordmodel.most_similar(\"cat\")"
      ],
      "execution_count": 63,
      "outputs": [
        {
          "output_type": "stream",
          "text": [
            "/usr/local/lib/python3.6/dist-packages/gensim/matutils.py:737: FutureWarning: Conversion of the second argument of issubdtype from `int` to `np.signedinteger` is deprecated. In future, it will be treated as `np.int64 == np.dtype(int).type`.\n",
            "  if np.issubdtype(vec.dtype, np.int):\n"
          ],
          "name": "stderr"
        },
        {
          "output_type": "execute_result",
          "data": {
            "text/plain": [
              "[('cats', 0.8368596434593201),\n",
              " ('housecat', 0.7674711346626282),\n",
              " ('-cat', 0.7602992057800293),\n",
              " ('dog', 0.7502298355102539),\n",
              " ('kitten', 0.7480818033218384),\n",
              " ('feline', 0.7353992462158203),\n",
              " ('super-cat', 0.7305205464363098),\n",
              " ('supercat', 0.7163283824920654),\n",
              " ('pet', 0.7090284824371338),\n",
              " ('moggy', 0.7057286500930786)]"
            ]
          },
          "metadata": {
            "tags": []
          },
          "execution_count": 63
        }
      ]
    },
    {
      "cell_type": "code",
      "metadata": {
        "id": "1h7cdB_gyIQX",
        "colab_type": "code",
        "colab": {}
      },
      "source": [
        "positive_weight = 1/len(docs[docs['scum'] == True])\n",
        "negative_weight = 1/len(docs[docs['scum'] == False])"
      ],
      "execution_count": 0,
      "outputs": []
    },
    {
      "cell_type": "markdown",
      "metadata": {
        "id": "uIs69LJ2IyRC",
        "colab_type": "text"
      },
      "source": [
        "# Get Docs Vectors from FastText\n",
        "\n"
      ]
    },
    {
      "cell_type": "code",
      "metadata": {
        "id": "GtFOJv2zc1VY",
        "colab_type": "code",
        "colab": {}
      },
      "source": [
        "import matplotlib.pyplot as plt\n",
        "from IPython.display import clear_output\n",
        "\n",
        "class LossTracker():\n",
        "  def __init__(self, plot_freq=5):\n",
        "    self.counter = 0\n",
        "    self.plot_freq = plot_freq\n",
        "    self.loss_dict = {'train': [], 'val': []}\n",
        "\n",
        "  def _make_plot(self):\n",
        "      train_loss = self.loss_dict['train']\n",
        "      val_loss = self.loss_dict['val']\n",
        "      plt.plot(list(range(len(train_loss))), train_loss, c='blue', label='Train')\n",
        "      plt.plot(list(range(len(val_loss))), val_loss, c='red', label='Val')\n",
        "      plt.legend(loc='upper right')\n",
        "\n",
        "  def plot(self):\n",
        "    # will plot the current loss_graph every plot_freq^th call to plot\n",
        "    self.counter += 1\n",
        "    if (self.counter % self.plot_freq == 0):\n",
        "      self._make_plot()\n",
        "      clear_output()\n",
        "      plt.show()\n",
        "      plt.close()\n",
        "\n",
        "  def save(self, path):\n",
        "    # save the current loss_graph to the given path\n",
        "    self._make_plot()\n",
        "    plt.savefig(path)\n",
        "    plt.close()\n",
        "\n",
        "  def log(self, loss, setting='train'):\n",
        "    # log/append loss values\n",
        "    assert(setting == 'train' or setting == 'val')\n",
        "    self.loss_dict[setting].append(loss)"
      ],
      "execution_count": 0,
      "outputs": []
    },
    {
      "cell_type": "code",
      "metadata": {
        "id": "zlWeLeORTDeB",
        "colab_type": "code",
        "colab": {}
      },
      "source": [
        "# model will expect (seq_length, batch, features)\n",
        "\n",
        "class BasicRNN(nn.Module):\n",
        "\n",
        "  def __init__(self, hidden_size, word_model):\n",
        "    super(BasicRNN, self).__init__()\n",
        "    self.embedding_size = word_model.vectors.shape[1]\n",
        "    self.hidden_size = hidden_size\n",
        "    self.embedding = nn.Embedding.from_pretrained(torch.tensor(word_model.vectors))\n",
        "    self.lstm = nn.LSTM(self.embedding_size, self.hidden_size)\n",
        "    self.linear = nn.Linear(self.hidden_size, 2)\n",
        "\n",
        "  def forward(self, ixs):\n",
        "    seq_length = ixs.shape[1]\n",
        "    batch_size = ixs.shape[0]\n",
        "\n",
        "    h = (torch.randn(1, batch_size, self.hidden_size).to(device), torch.randn(1, batch_size, self.hidden_size).to(device))\n",
        "    #h = h.to(device)\n",
        "    x = self.embedding(ixs).view(seq_length, -1, self.embedding_size)\n",
        "    x, h = self.lstm(x, h)\n",
        "    return self.linear(h[1]).view(-1, 2)"
      ],
      "execution_count": 0,
      "outputs": []
    },
    {
      "cell_type": "markdown",
      "metadata": {
        "id": "bQL5-FfEQ-Um",
        "colab_type": "text"
      },
      "source": [
        "### Train Basic Model!"
      ]
    },
    {
      "cell_type": "code",
      "metadata": {
        "id": "-EavPUwKpy-K",
        "colab_type": "code",
        "colab": {}
      },
      "source": [
        "from tqdm import tqdm_notebook as tqdm\n",
        "from torch.utils.data import DataLoader"
      ],
      "execution_count": 0,
      "outputs": []
    },
    {
      "cell_type": "code",
      "metadata": {
        "id": "xK9OrF7AbyTR",
        "colab_type": "code",
        "colab": {}
      },
      "source": [
        "docs_list = list(docs.words.values)"
      ],
      "execution_count": 0,
      "outputs": []
    },
    {
      "cell_type": "code",
      "metadata": {
        "id": "RcIxntMQW9K7",
        "colab_type": "code",
        "outputId": "72be2fbc-6a3a-47ff-bb62-83a35ed5fc6d",
        "colab": {
          "base_uri": "https://localhost:8080/",
          "height": 374
        }
      },
      "source": [
        "# this will remove unknown words, which is probably undesirable (figure out how to use subword information)\n",
        "docs_indexed = [[wordmodel.vocab[word].index for word in doc if word in wordmodel] for doc in docs_list]\n",
        "#test:\n",
        "print([wordmodel.index2word[index] for index in docs_indexed[0]])\n",
        "# convert to vectors\n",
        "docs_vectors = [torch.tensor(doc) for doc in docs_indexed]\n",
        "print(docs_vectors[0])\n",
        "ys = list(docs.scum.values)\n",
        "ys = [torch.LongTensor([y]) for y in ys]\n",
        "print(ys[3].shape, docs_vectors[3].shape)"
      ],
      "execution_count": 68,
      "outputs": [
        {
          "output_type": "stream",
          "text": [
            "['confirm', 'vote', 'awa', 'for', 'being', 'the', 'last', 'one', 'to', 'confirm', 'well', 'i', 'have', 'a', 'question', 'to', 'awa', 'your', 'planning', 'to', 'post', 'anything', 'soon', 'and', 'all', 'this', 'talk', 'about', 'cookies', 'makes', 'me', 'wanna', 'eat', 'some', 'i', 'think', 'that', 'af', 's', 'english', 'is', 'good', 'enough', 'at', 'least', 'the', 'two', 'last', 'posts', 'myself', 'i', 'm', 'from', 'sweden', 'so', 'english', 'is', 'not', 'my', 'first', 'language', 'and', 'i', 'have', 'sometimes', 'have', 'had', 'a', 'hard', 'time', 'explaining', 'my', 'intentions', 'however', 'i', 'should', 'not', 'be', 'treated', 'different', 'then', 'all', 'the', 'other', 'who', 'have', 'english', 'as', 'their', 'first', 'language', 'and', 'neither', 'should', 'af', 'if', 'you', 'want', 'a', 'tip', 'af', 'use', 'firefox', 'firefox', 'works', 'have', 'just', 'as', 'word', 'language', 'correction', 'mod', 'time', 'to', 'prod', 'awa', 'the', 'rules', 'don', 't', 'have', 'any', 'requirements', 'about', 'posting', 'but', 'are', 'there', 'rules', 'anyway', 'well', 'i', 'm', 'ready', 'to', 'vote', 'for', 'finch', 'i', 'agree', 'with', 's', 'post', '147', 'and', 'so', 'far', 'he', 'is', 'the', 'most', 'suspicious', 'one']\n",
            "tensor([  4871,    523, 152878,     14,    124,      1,    200,     44,      5,\n",
            "          4871,    222,    670,     36,      7,    268,      5, 152878,     54,\n",
            "          1249,      5,    697,    404,   1051,      3,     41,     29,     85,\n",
            "            46,   9573,    618,    103,  29044,   3197,     64,    670,    162,\n",
            "            11,  32707,    143,   8099,     13,    173,    494,     27,    684,\n",
            "             1,    105,    200,   2638,    915,    670,   1880,     26, 105658,\n",
            "            57,   8099,     13,     34,     93,    111,    431,      3,    670,\n",
            "            36,    744,     36,     59,      7,    932,     63,   2712,     93,\n",
            "          7147,   1222,    670,    132,     34,     38,   3049,    287,     87,\n",
            "            41,      1,     69,     67,     36,   8099,     18,     45,    111,\n",
            "           431,      3,   1391,    132,  32707,     62,     30,    405,      7,\n",
            "          5778,  32707,     86,  48917,  48917,    480,     36,     76,     18,\n",
            "           530,    431,   6308,  17309,     63,      5,  12137, 152878,      1,\n",
            "           654,    446,    568,     36,     78,   1243,     46,   3002,     47,\n",
            "            32,     80,    654,   1842,    222,    670,   1880,   3072,      5,\n",
            "           523,     14,  67742,    670,   1187,     17,    143,    697,  16499,\n",
            "             3,     57,    785,     53,     13,      1,    126,   7096,     44])\n",
            "torch.Size([1]) torch.Size([148])\n"
          ],
          "name": "stdout"
        }
      ]
    },
    {
      "cell_type": "code",
      "metadata": {
        "id": "XZy4Y1iugKVR",
        "colab_type": "code",
        "colab": {}
      },
      "source": [
        "from sklearn.model_selection import train_test_split\n",
        "\n",
        "X_train, X_test, y_train, y_test = train_test_split(docs_vectors, ys, test_size=0.2, random_state=42)"
      ],
      "execution_count": 0,
      "outputs": []
    },
    {
      "cell_type": "code",
      "metadata": {
        "id": "whv8H8-wZt1C",
        "colab_type": "code",
        "outputId": "458320f0-9938-4bf0-d460-692a5a080833",
        "colab": {
          "base_uri": "https://localhost:8080/",
          "height": 300
        }
      },
      "source": [
        "batch_size = 1\n",
        "dataset_training = MyDataset(X_train, y_train)\n",
        "dataloader = DataLoader(dataset_training, batch_size=batch_size)\n",
        "\n",
        "dataset_test = MyDataset(X_test, y_test)\n",
        "only_necessary_when_not_batching_dataloader = DataLoader(dataset_test, batch_size=batch_size)\n",
        "\n",
        "num_epochs = 40\n",
        "\n",
        "model = BasicRNN(64, wordmodel).to(device)\n",
        "\n",
        "loss_function = nn.CrossEntropyLoss(weight=torch.Tensor([negative_weight, positive_weight]).cuda())\n",
        "optimizer = optim.Adam(model.parameters(), lr=0.001, weight_decay=0.001)\n",
        "\n",
        "losstracker = LossTracker(plot_freq=1)\n",
        "for e in range(1, num_epochs + 1):\n",
        "  epoch_loss = []\n",
        "  i = 0\n",
        "  for x, y in tqdm(dataloader):\n",
        "      i += 1\n",
        "      x = x.to(device)\n",
        "      y = y.to(device)\n",
        "\n",
        "      model.zero_grad()\n",
        "      output = model(x)\n",
        "      loss_train = loss_function(output, y.view(batch_size))\n",
        "      loss_train.backward()\n",
        "      optimizer.step()\n",
        "\n",
        "      #print('epoch {}, batch {} ::: Training Loss = {:.3f}'.format(e, i, loss_train))\n",
        "      epoch_loss.append(loss_train.item())\n",
        "\n",
        "  # get mean training loss \n",
        "  loss_train = np.mean(epoch_loss)\n",
        "\n",
        "  # get mean validation loss\n",
        "  with torch.no_grad():\n",
        "    validation_losses = []\n",
        "    for x, y in only_necessary_when_not_batching_dataloader:\n",
        "      x = x.to(device)\n",
        "      y = y.to(device)\n",
        "      output = model(x)\n",
        "      loss_val = loss_function(output, y.view(batch_size)).item()\n",
        "      validation_losses.append(loss_val)\n",
        "    \n",
        "    # get mean validation loss\n",
        "    loss_val = np.mean(validation_losses)\n",
        "  # track loss\n",
        "  losstracker.log(loss_train, setting='train')\n",
        "  losstracker.log(loss_val, setting='val')\n",
        "\n",
        "  losstracker.plot()\n",
        "  print('epoch {} ::: Training Loss = {:.3f}, Validation Loss = {:.3f}'.format(e, loss_train, loss_val))\n",
        "  print(accuracy(model, X_test, y_test))"
      ],
      "execution_count": 136,
      "outputs": [
        {
          "output_type": "display_data",
          "data": {
            "image/png": "[encoded data removed]",
            "text/plain": [
              "<Figure size 432x288 with 1 Axes>"
            ]
          },
          "metadata": {
            "tags": []
          }
        },
        {
          "output_type": "stream",
          "text": [
            "epoch 40 ::: Training Loss = 0.037, Validation Loss = 1.436\n",
            "{'accuracy': 0.743801652892562, 'positives': 0.10330578512396695, 'negatives': 0.8966942148760331}\n"
          ],
          "name": "stdout"
        }
      ]
    },
    {
      "cell_type": "code",
      "metadata": {
        "id": "Z6RqjFnit-ap",
        "colab_type": "code",
        "colab": {
          "base_uri": "https://localhost:8080/",
          "height": 34
        },
        "outputId": "6ce367fa-afea-4aa3-dcaf-bb7abbf985c1"
      },
      "source": [
        "torch.softmax"
      ],
      "execution_count": 96,
      "outputs": [
        {
          "output_type": "execute_result",
          "data": {
            "text/plain": [
              "<function _VariableFunctions.softmax>"
            ]
          },
          "metadata": {
            "tags": []
          },
          "execution_count": 96
        }
      ]
    },
    {
      "cell_type": "code",
      "metadata": {
        "id": "VOOAkd6CquW4",
        "colab_type": "code",
        "colab": {}
      },
      "source": [
        "\n",
        "### accuracy check\n",
        "def accuracy(model, x_test, y_test):\n",
        "  count = 0\n",
        "  correct = 0\n",
        "  positive = 0\n",
        "  negative = 0\n",
        "  with torch.no_grad():\n",
        "    for i, x in enumerate(X_test):\n",
        "      output = model(x.view(1, len(x)).cuda())\n",
        "      sm = torch.softmax(output, dim=1)\n",
        "      prediction = sm.argmax().item()\n",
        "      if prediction == y_test[i]:\n",
        "        correct += 1\n",
        "      if prediction == 0:\n",
        "        negative += 1\n",
        "      if prediction == 1:\n",
        "        positive += 1\n",
        "      count += 1\n",
        "  return {'accuracy': correct/count, 'positives': positive/count, 'negatives': negative/count}"
      ],
      "execution_count": 0,
      "outputs": []
    },
    {
      "cell_type": "code",
      "metadata": {
        "id": "auvsfniVtJig",
        "colab_type": "code",
        "colab": {
          "base_uri": "https://localhost:8080/",
          "height": 70
        },
        "outputId": "4b2f7d9f-2b61-4041-cd0c-d0de0146c6e3"
      },
      "source": [
        "accuracy(model, X_test, y_test)"
      ],
      "execution_count": 120,
      "outputs": [
        {
          "output_type": "execute_result",
          "data": {
            "text/plain": [
              "{'accuracy': 0.22727272727272727,\n",
              " 'negatives': 0.04132231404958678,\n",
              " 'positives': 0.9586776859504132}"
            ]
          },
          "metadata": {
            "tags": []
          },
          "execution_count": 120
        }
      ]
    },
    {
      "cell_type": "code",
      "metadata": {
        "id": "7bheRZiOtW2c",
        "colab_type": "code",
        "colab": {
          "base_uri": "https://localhost:8080/",
          "height": 34
        },
        "outputId": "abb11ed4-305e-4447-b0c9-cda2c73f441a"
      },
      "source": [
        "count = 0\n",
        "positive = 0\n",
        "for y in y_test:\n",
        "  if y == 1:\n",
        "    positive += 1\n",
        "  count += 1\n",
        "print(positive/count)"
      ],
      "execution_count": 119,
      "outputs": [
        {
          "output_type": "stream",
          "text": [
            "0.21074380165289255\n"
          ],
          "name": "stdout"
        }
      ]
    },
    {
      "cell_type": "code",
      "metadata": {
        "id": "dP1eRx6UvmE6",
        "colab_type": "code",
        "colab": {}
      },
      "source": [
        ""
      ],
      "execution_count": 0,
      "outputs": []
    }
  ]
}
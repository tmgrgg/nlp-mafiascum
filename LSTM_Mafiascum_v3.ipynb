{
  "nbformat": 4,
  "nbformat_minor": 0,
  "metadata": {
    "kernelspec": {
      "name": "python3",
      "display_name": "Python 3"
    },
    "language_info": {
      "codemirror_mode": {
        "name": "ipython",
        "version": 3
      },
      "file_extension": ".py",
      "mimetype": "text/x-python",
      "name": "python",
      "nbconvert_exporter": "python",
      "pygments_lexer": "ipython3",
      "version": "3.7.0"
    },
    "colab": {
      "name": "LSTM_Mafiascum_v3.ipynb",
      "provenance": [],
      "collapsed_sections": [],
      "toc_visible": true,
      "machine_shape": "hm",
      "include_colab_link": true
    },
    "accelerator": "GPU"
  },
  "cells": [
    {
      "cell_type": "markdown",
      "metadata": {
        "id": "view-in-github",
        "colab_type": "text"
      },
      "source": [
        "<a href=\"https://colab.research.google.com/github/tmgrgg/nlp-mafiascum/blob/master/LSTM_Mafiascum_v3.ipynb\" target=\"_parent\"><img src=\"https://colab.research.google.com/assets/colab-badge.svg\" alt=\"Open In Colab\"/></a>"
      ]
    },
    {
      "cell_type": "code",
      "metadata": {
        "colab_type": "code",
        "id": "6XyDEqvlWV35",
        "outputId": "bc059c4d-7f97-4e18-a38d-3cf0416e1789",
        "colab": {
          "base_uri": "https://localhost:8080/",
          "height": 122
        }
      },
      "source": [
        "#We'll need this to be able to cache stuff without blowing up RAM\n",
        "\n",
        "from google.colab import drive\n",
        "drive.mount('/content/drive')"
      ],
      "execution_count": 1,
      "outputs": [
        {
          "output_type": "stream",
          "text": [
            "Go to this URL in a browser: https://accounts.google.com/o/oauth2/auth?client_id=947318989803-6bn6qk8qdgf4n4g3pfee6491hc0brc4i.apps.googleusercontent.com&redirect_uri=urn%3aietf%3awg%3aoauth%3a2.0%3aoob&response_type=code&scope=email%20https%3a%2f%2fwww.googleapis.com%2fauth%2fdocs.test%20https%3a%2f%2fwww.googleapis.com%2fauth%2fdrive%20https%3a%2f%2fwww.googleapis.com%2fauth%2fdrive.photos.readonly%20https%3a%2f%2fwww.googleapis.com%2fauth%2fpeopleapi.readonly\n",
            "\n",
            "Enter your authorization code:\n",
            "··········\n",
            "Mounted at /content/drive\n"
          ],
          "name": "stdout"
        }
      ]
    },
    {
      "cell_type": "code",
      "metadata": {
        "id": "FFpJS9XRolk1",
        "colab_type": "code",
        "outputId": "81e738aa-4873-4d54-bae2-8d0cddbac64a",
        "colab": {
          "base_uri": "https://localhost:8080/",
          "height": 221
        }
      },
      "source": [
        "import pandas as pd\n",
        "import torch\n",
        "from torchtext import data\n",
        "from torchtext import datasets\n",
        "import random\n",
        "import numpy as np\n",
        "\n",
        "#SEED = 49\n",
        "#pretty good \n",
        "\n",
        "SEED = 49\n",
        "torch.backends.cudnn.deterministic = True\n",
        "np.random.seed(SEED)\n",
        "random.seed(SEED)\n",
        "torch.manual_seed(SEED)\n",
        "\n",
        "DOCS_PATH = 'drive/My Drive/MAFIA_DATA/24h_of_deception_basic.pkl'\n",
        "\n",
        "docs = pd.read_pickle(DOCS_PATH)\n",
        "docs = docs.sample(frac=1)\n",
        "\n",
        "print(len(docs))\n",
        "\n",
        "TEST_RATIO = 0.5\n",
        "VALID_RATIO = 0.3\n",
        "\n",
        "# split at user level to stop leakage (plus, we want to be agnostic to author identity!)\n",
        "users = docs.author.unique()\n",
        "np.random.shuffle(users)\n",
        "\n",
        "train_users = users[int(len(users)*TEST_RATIO):]\n",
        "test_users = users[:int(len(users)*TEST_RATIO)]\n",
        "valid_users = train_users[:int(len(train_users)*VALID_RATIO)]\n",
        "train_users = train_users[int(len(train_users)*VALID_RATIO):]\n",
        "\n",
        "train_docs = docs[np.isin(docs['author'].values, train_users)]\n",
        "valid_docs = docs[np.isin(docs['author'].values, valid_users)]\n",
        "test_docs = docs[np.isin(docs['author'].values, test_users)]\n",
        "\n",
        "print(docs.iloc[0]['author'] == 'Egg')\n",
        "print(docs.iloc[1]['author'] == 'Wake88')\n",
        "print(train_docs.iloc[0]['author'] == 'Egg')\n",
        "print(train_docs.iloc[1]['author'] == 'Vendagoat')\n",
        "print(valid_docs.iloc[0]['author'] == 'Wake88')\n",
        "print(valid_docs.iloc[1]['author'] == 'OhGodMyLife')\n",
        "print(test_docs.iloc[0]['author'] == 'Bellaphant')\n",
        "print(test_docs.iloc[1]['author'] == 'Fishbulb')\n",
        "\n",
        "print(len(train_docs[train_docs['scum'] == False])/len(train_docs))\n",
        "print(len(valid_docs[valid_docs['scum'] == False])/len(valid_docs))\n",
        "print(len(test_docs[test_docs['scum'] == False])/len(test_docs))"
      ],
      "execution_count": 2,
      "outputs": [
        {
          "output_type": "stream",
          "text": [
            "112523\n",
            "False\n",
            "False\n",
            "False\n",
            "False\n",
            "False\n",
            "False\n",
            "False\n",
            "False\n",
            "0.7640725776093558\n",
            "0.76381299332119\n",
            "0.7598832864818703\n"
          ],
          "name": "stdout"
        }
      ]
    },
    {
      "cell_type": "markdown",
      "metadata": {
        "id": "RYyoWKwiSIVK",
        "colab_type": "text"
      },
      "source": [
        "# Build Dataset\n"
      ]
    },
    {
      "cell_type": "code",
      "metadata": {
        "colab_type": "code",
        "id": "5oMsLyWTWYNk",
        "colab": {}
      },
      "source": [
        "from torchtext import data\n",
        "\n",
        "class DataFrameDataset(data.Dataset):\n",
        "\n",
        "    def __init__(self, df, text_field, label_field, **kwargs):\n",
        "        fields = [('text', text_field), ('label', label_field), ('index', Field(sequential=False, use_vocab=False))]\n",
        "        examples = []\n",
        "        for i, row in df.iterrows():\n",
        "            label = row.scum \n",
        "            text = row.words\n",
        "            examples.append(data.Example.fromlist([text, label, i], fields))\n",
        "\n",
        "        super().__init__(examples, fields, **kwargs)\n",
        "\n",
        "    @staticmethod\n",
        "    def sort_key(ex):\n",
        "        return len(ex.text)\n",
        "\n",
        "from torchtext.data import Field, LabelField\n",
        "\n",
        "# define Fields\n",
        "TEXT = Field(sequential=True, include_lengths=True)\n",
        "LABEL = LabelField(dtype=torch.float)\n",
        "#LABEL = LabelField(dtype=torch.long)\n",
        "\n",
        "# define Dataset\n",
        "#train_data = \n",
        "#dataset = DataFrameDataset(docs, TEXT, LABEL)\n",
        "train_data = DataFrameDataset(train_docs, TEXT, LABEL)\n",
        "valid_data = DataFrameDataset(valid_docs, TEXT, LABEL)\n",
        "test_data = DataFrameDataset(test_docs, TEXT, LABEL)\n",
        "\n",
        "#train_data, test_data = dataset.split(split_ratio=0.8, random_state=random.seed(SEED))\n",
        "#train_data, valid_data = train_data.split(split_ratio = 0.8, random_state= random.seed(SEED))"
      ],
      "execution_count": 0,
      "outputs": []
    },
    {
      "cell_type": "markdown",
      "metadata": {
        "id": "PGWLFSNArtKc",
        "colab_type": "text"
      },
      "source": [
        "# Specify Model"
      ]
    },
    {
      "cell_type": "code",
      "metadata": {
        "id": "pnOD1GVRSIXa",
        "colab_type": "code",
        "colab": {}
      },
      "source": [
        "import torch.nn as nn\n",
        "\n",
        "class RNN(nn.Module):\n",
        "    def __init__(self, vocab_size, embedding_dim, hidden_dim, output_dim, n_layers, \n",
        "                 bidirectional, dropout, pad_idx):\n",
        "        \n",
        "        super().__init__()\n",
        "        \n",
        "        self.embedding = nn.Embedding(vocab_size, embedding_dim, padding_idx = pad_idx)\n",
        "        \n",
        "        self.rnn = nn.LSTM(embedding_dim, \n",
        "                           hidden_dim, \n",
        "                           num_layers=n_layers, \n",
        "                           bidirectional=bidirectional, \n",
        "                           dropout=dropout)\n",
        "        \n",
        "        self.fc = nn.Linear(hidden_dim * 2, output_dim)\n",
        "        \n",
        "        self.dropout = nn.Dropout(dropout)\n",
        "        \n",
        "    def forward(self, text, text_lengths):\n",
        "        \n",
        "        #text = [sent len, batch size]\n",
        "        \n",
        "        embedded = self.dropout(self.embedding(text))\n",
        "        \n",
        "        #embedded = [sent len, batch size, emb dim]\n",
        "        \n",
        "        #pack sequence\n",
        "        packed_embedded = nn.utils.rnn.pack_padded_sequence(embedded, text_lengths)\n",
        "        \n",
        "        packed_output, (hidden, cell) = self.rnn(packed_embedded)\n",
        "        \n",
        "        #unpack sequence\n",
        "        output, output_lengths = nn.utils.rnn.pad_packed_sequence(packed_output)\n",
        "\n",
        "        #output = [sent len, batch size, hid dim * num directions]\n",
        "        #output over padding tokens are zero tensors\n",
        "        \n",
        "        #hidden = [num layers * num directions, batch size, hid dim]\n",
        "        #cell = [num layers * num directions, batch size, hid dim]\n",
        "        \n",
        "        #concat the final forward (hidden[-2,:,:]) and backward (hidden[-1,:,:]) hidden layers\n",
        "        #and apply dropout\n",
        "        \n",
        "        hidden = self.dropout(torch.cat((hidden[-2,:,:], hidden[-1,:,:]), dim = 1))\n",
        "                \n",
        "        #hidden = [batch size, hid dim * num directions]\n",
        "        \n",
        "            \n",
        "        return self.fc(hidden)"
      ],
      "execution_count": 0,
      "outputs": []
    },
    {
      "cell_type": "markdown",
      "metadata": {
        "id": "Z0nZXzM4s-y_",
        "colab_type": "text"
      },
      "source": [
        "# TRAINING"
      ]
    },
    {
      "cell_type": "markdown",
      "metadata": {
        "id": "ItcsODL9tA_d",
        "colab_type": "text"
      },
      "source": [
        "## Training Utilities"
      ]
    },
    {
      "cell_type": "code",
      "metadata": {
        "id": "TmguvaaWSIX9",
        "colab_type": "code",
        "colab": {}
      },
      "source": [
        "def binary_accuracy(preds, y):\n",
        "    \"\"\"\n",
        "    Returns accuracy per batch, i.e. if you get 8/10 right, this returns 0.8, NOT 8\n",
        "    \"\"\"\n",
        "\n",
        "    #round predictions to the closest integer\n",
        "    rounded_preds = torch.round(torch.sigmoid(preds))\n",
        "    correct = (rounded_preds == y).float() #convert into float for division \n",
        "    acc = correct.sum() / len(correct)\n",
        "    return acc"
      ],
      "execution_count": 0,
      "outputs": []
    },
    {
      "cell_type": "code",
      "metadata": {
        "id": "7-v8nnY4SIYB",
        "colab_type": "code",
        "colab": {}
      },
      "source": [
        "from sklearn.metrics import roc_auc_score, average_precision_score\n",
        "\n",
        "def train(model, iterator, optimizer, criterion, weight_by_length=False):\n",
        "    \n",
        "    epoch_loss = 0\n",
        "    epoch_acc = 0\n",
        "    \n",
        "    model.train()\n",
        "    \n",
        "    all_predictions = []\n",
        "    all_y_true = []\n",
        "    \n",
        "    for batch in iterator:       \n",
        "        optimizer.zero_grad()\n",
        "\n",
        "        text, text_lengths = batch.text\n",
        "        \n",
        "        predictions = model(text, text_lengths).squeeze(1)\n",
        "                \n",
        "        loss = criterion(predictions, batch.label)\n",
        "\n",
        "        if weight_by_length:\n",
        "          sample_weight = torch.log(text_lengths.float())\n",
        "          #print(sample_weight)\n",
        "          loss = sample_weight * loss\n",
        "\n",
        "        loss = loss.mean()\n",
        "              \n",
        "        # since we're using reduction = none we have to use loss.mean()\n",
        "        loss.backward()\n",
        "        \n",
        "        optimizer.step()\n",
        "\n",
        "        acc = binary_accuracy(predictions, batch.label)\n",
        "\n",
        "        \n",
        "        epoch_loss += loss.item()\n",
        "        epoch_acc += acc.item()\n",
        "\n",
        "        all_predictions.append(predictions.cpu().detach().numpy())\n",
        "        all_y_true.append(batch.label.cpu().detach().numpy())\n",
        "\n",
        "    \n",
        "    all_y_true = np.hstack(all_y_true)\n",
        "    all_predictions = np.hstack(all_predictions)\n",
        "    auc_score = roc_auc_score(all_y_true, all_predictions)   \n",
        "    ap_score = average_precision_score(all_y_true, all_predictions) \n",
        "    \n",
        "    return epoch_loss / len(iterator), epoch_acc / len(iterator), auc_score, ap_score"
      ],
      "execution_count": 0,
      "outputs": []
    },
    {
      "cell_type": "code",
      "metadata": {
        "id": "HCS73afQSIYG",
        "colab_type": "code",
        "colab": {}
      },
      "source": [
        "def evaluate(model, iterator, criterion, weight_by_length=False):\n",
        "    \n",
        "    epoch_loss = 0\n",
        "    epoch_acc = 0\n",
        "    \n",
        "    model.eval()\n",
        "    \n",
        "    with torch.no_grad():\n",
        "        all_predictions = []\n",
        "        all_y_true = []\n",
        "    \n",
        "        for batch in iterator:\n",
        "\n",
        "            text, text_lengths = batch.text\n",
        "            \n",
        "            predictions = model(text, text_lengths).squeeze(1)        \n",
        "                \n",
        "            loss = criterion(predictions, batch.label)\n",
        "\n",
        "            if weight_by_length:\n",
        "              sample_weight = torch.log(text_lengths.float())\n",
        "              #print(sample_weight)\n",
        "              loss = sample_weight * loss\n",
        "            \n",
        "            loss = loss.mean()\n",
        "\n",
        "            acc = binary_accuracy(predictions, batch.label)\n",
        "\n",
        "            all_predictions.append(predictions.cpu().numpy())\n",
        "            all_y_true.append(batch.label.cpu().numpy())\n",
        "\n",
        "            epoch_loss += loss.item()\n",
        "            epoch_acc += acc.item()\n",
        "    \n",
        "    all_y_true = np.hstack(all_y_true)\n",
        "    all_predictions = np.hstack(all_predictions)\n",
        "    auc_score = roc_auc_score(all_y_true, all_predictions)   \n",
        "    ap_score = average_precision_score(all_y_true, all_predictions)  \n",
        "    return epoch_loss / len(iterator), epoch_acc / len(iterator), auc_score, ap_score"
      ],
      "execution_count": 0,
      "outputs": []
    },
    {
      "cell_type": "code",
      "metadata": {
        "id": "ftl3ZRgBJnjl",
        "colab_type": "code",
        "colab": {}
      },
      "source": [
        "import matplotlib.pyplot as plt\n",
        "from IPython.display import clear_output\n",
        "from collections import OrderedDict\n",
        "\n",
        "class StatsTracker():\n",
        "  def __init__(self, plot_freq=5):\n",
        "    self.counter = 0\n",
        "    self.plot_freq = plot_freq\n",
        "    self._metrics = OrderedDict({})\n",
        "\n",
        "  def _make_plot(self):\n",
        "      fig, ax = plt.subplots(1, len(self._metrics.keys()), squeeze=False, figsize=(18,4))\n",
        "      for i, metric in enumerate(self._metrics.keys()):\n",
        "        train_metric = self._metrics[metric]['train']\n",
        "        valid_metric = self._metrics[metric]['valid']\n",
        "        ax[0, i].plot(list(range(len(train_metric))), train_metric, c='b', label='Train', marker='.')\n",
        "        ax[0, i].plot(list(range(len(valid_metric))), valid_metric, c='r', label='Valid', marker='.')\n",
        "        ax[0, i].set_ylabel(metric)\n",
        "        ax[0, i].set_xlabel('epochs')\n",
        "        ax[0, i].legend(loc='upper right')\n",
        "\n",
        "  def plot(self):\n",
        "    # will plot the current loss_graph every plot_freq^th call to plot\n",
        "    self.counter += 1\n",
        "    if (self.counter % self.plot_freq == 0):\n",
        "      print('hey')\n",
        "      fig = self._make_plot()\n",
        "      clear_output()\n",
        "      plt.show()\n",
        "      #fig.close()\n",
        "\n",
        "  def save(self, path):\n",
        "    # save the current loss_graph to the given path\n",
        "    self._make_plot()\n",
        "    plt.savefig(path)\n",
        "    plt.close()\n",
        "\n",
        "  def log(self, value, metric, setting='train'):\n",
        "    assert(setting == 'train' or setting == 'valid')\n",
        "    if metric not in self._metrics.keys():\n",
        "      self._metrics[metric] = {'train': [], 'valid': []}\n",
        "    self._metrics[metric][setting].append(value)"
      ],
      "execution_count": 0,
      "outputs": []
    },
    {
      "cell_type": "code",
      "metadata": {
        "id": "PzxDaX25SIYJ",
        "colab_type": "code",
        "colab": {}
      },
      "source": [
        "import time\n",
        "\n",
        "def epoch_time(start_time, end_time):\n",
        "    elapsed_time = end_time - start_time\n",
        "    elapsed_mins = int(elapsed_time / 60)\n",
        "    elapsed_secs = int(elapsed_time - (elapsed_mins * 60))\n",
        "    return elapsed_mins, elapsed_secs"
      ],
      "execution_count": 0,
      "outputs": []
    },
    {
      "cell_type": "markdown",
      "metadata": {
        "id": "RcBsEkwLuALP",
        "colab_type": "text"
      },
      "source": [
        "## Define Model Paramters and Training Hyperparameters"
      ]
    },
    {
      "cell_type": "code",
      "metadata": {
        "id": "n-G3P_cHSIXP",
        "colab_type": "code",
        "colab": {
          "base_uri": "https://localhost:8080/",
          "height": 51
        },
        "outputId": "0d8317df-6ae3-4afb-bd36-be8b9546e1d1"
      },
      "source": [
        "MAX_VOCAB_SIZE = 25_000\n",
        " #fasttext.en.300d\n",
        "TEXT.build_vocab(train_data, \n",
        "                 max_size = MAX_VOCAB_SIZE, \n",
        "                 vectors = \"glove.6B.100d\", \n",
        "                 unk_init = torch.Tensor.normal_)\n",
        "\n",
        "LABEL.build_vocab(train_data)"
      ],
      "execution_count": 10,
      "outputs": [
        {
          "output_type": "stream",
          "text": [
            ".vector_cache/glove.6B.zip: 862MB [06:26, 2.23MB/s]                          \n",
            "100%|█████████▉| 399978/400000 [00:14<00:00, 25874.17it/s]"
          ],
          "name": "stderr"
        }
      ]
    },
    {
      "cell_type": "code",
      "metadata": {
        "id": "80DsOEAn2Tj-",
        "colab_type": "code",
        "colab": {}
      },
      "source": [
        "BATCH_SIZE = 64\n",
        "\n",
        "device = torch.device('cuda' if torch.cuda.is_available() else 'cpu')\n",
        "\n",
        "train_iterator =  data.BucketIterator(train_data, batch_size = BATCH_SIZE, train=True, sort=True,\n",
        "                                      sort_within_batch = True, device = device)\n",
        "\n",
        "valid_iterator =  data.BucketIterator(valid_data, train=False, sort=True, batch_size = BATCH_SIZE, \n",
        "                                      sort_within_batch = True, device = device)"
      ],
      "execution_count": 0,
      "outputs": []
    },
    {
      "cell_type": "code",
      "metadata": {
        "id": "uZTCNCnizRLo",
        "colab_type": "code",
        "outputId": "9a069de5-f68b-4592-9ca9-6c93164951d7",
        "colab": {
          "base_uri": "https://localhost:8080/",
          "height": 554
        }
      },
      "source": [
        "# check distributions\n",
        "\n",
        "train_lens = []\n",
        "valid_lens = []\n",
        "train_positives = 0\n",
        "train_length = 0\n",
        "valid_positives = 0\n",
        "valid_length = 0\n",
        "\n",
        "for batch in train_iterator:\n",
        "  train_lens.append(batch.text[0].cpu().shape[0])\n",
        "  train_positives += batch.label.cpu().sum()\n",
        "  train_length += len(batch.label)\n",
        "\n",
        "for batch in valid_iterator:\n",
        "  valid_lens.append(batch.text[0].cpu().shape[0])\n",
        "  valid_positives += batch.label.cpu().sum()\n",
        "  valid_length += len(batch.label)\n",
        "\n",
        "\n",
        "pd.DataFrame(train_lens).plot.kde()\n",
        "pd.DataFrame(valid_lens).plot.kde()\n",
        "print(train_positives/train_length)\n",
        "print(valid_positives/valid_length)"
      ],
      "execution_count": 12,
      "outputs": [
        {
          "output_type": "stream",
          "text": [
            "tensor(0.2359)\n",
            "tensor(0.2362)\n"
          ],
          "name": "stdout"
        },
        {
          "output_type": "display_data",
          "data": {
            "image/png": "[encoded data removed]",
            "text/plain": [
              "<Figure size 432x288 with 1 Axes>"
            ]
          },
          "metadata": {
            "tags": []
          }
        },
        {
          "output_type": "display_data",
          "data": {
            "image/png": "[encoded data removed]",
            "text/plain": [
              "<Figure size 432x288 with 1 Axes>"
            ]
          },
          "metadata": {
            "tags": []
          }
        }
      ]
    },
    {
      "cell_type": "code",
      "metadata": {
        "id": "5O0zIttwSIXe",
        "colab_type": "code",
        "outputId": "9a267f2b-b5d6-426f-ad01-0e662ea892a4",
        "colab": {
          "base_uri": "https://localhost:8080/",
          "height": 153
        }
      },
      "source": [
        "INPUT_DIM = len(TEXT.vocab)\n",
        "EMBEDDING_DIM = TEXT.vocab.vectors.shape[1]\n",
        "HIDDEN_DIM = 256\n",
        "OUTPUT_DIM = 1\n",
        "N_LAYERS = 2\n",
        "BIDIRECTIONAL = True\n",
        "DROPOUT = 0.5\n",
        "PAD_IDX = TEXT.vocab.stoi[TEXT.pad_token]\n",
        "\n",
        "model = RNN(INPUT_DIM, \n",
        "            EMBEDDING_DIM, \n",
        "            HIDDEN_DIM, \n",
        "            OUTPUT_DIM, \n",
        "            N_LAYERS, \n",
        "            BIDIRECTIONAL, \n",
        "            DROPOUT, \n",
        "            PAD_IDX)\n",
        "\n",
        "pretrained_embeddings = TEXT.vocab.vectors\n",
        "\n",
        "print(pretrained_embeddings.shape)\n",
        "\n",
        "model.embedding.weight.data.copy_(pretrained_embeddings)\n",
        "UNK_IDX = TEXT.vocab.stoi[TEXT.unk_token]\n",
        "\n",
        "model.embedding.weight.data[UNK_IDX] = torch.zeros(EMBEDDING_DIM)\n",
        "model.embedding.weight.data[PAD_IDX] = torch.zeros(EMBEDDING_DIM)\n",
        "\n",
        "print(model.embedding.weight.data)"
      ],
      "execution_count": 13,
      "outputs": [
        {
          "output_type": "stream",
          "text": [
            "torch.Size([25002, 100])\n",
            "tensor([[ 0.0000,  0.0000,  0.0000,  ...,  0.0000,  0.0000,  0.0000],\n",
            "        [ 0.0000,  0.0000,  0.0000,  ...,  0.0000,  0.0000,  0.0000],\n",
            "        [-0.0465,  0.6197,  0.5665,  ..., -0.3762, -0.0325,  0.8062],\n",
            "        ...,\n",
            "        [ 0.2733,  0.1248,  0.9567,  ..., -0.4712,  0.2465,  0.8924],\n",
            "        [-0.0839, -0.5739, -0.2368,  ..., -0.0162, -0.2855,  0.7073],\n",
            "        [ 0.0985, -0.4974, -0.1092,  ..., -0.0620, -0.4713, -0.0628]])\n"
          ],
          "name": "stdout"
        }
      ]
    },
    {
      "cell_type": "code",
      "metadata": {
        "id": "py0DCeMiSIX1",
        "colab_type": "code",
        "outputId": "0276ada5-d80d-4d43-e92d-5a2368fc8a83",
        "colab": {
          "base_uri": "https://localhost:8080/",
          "height": 34
        }
      },
      "source": [
        "import torch.optim as optim\n",
        "\n",
        "optimizer = optim.Adam(model.parameters(), lr=0.0001, weight_decay=0.0001)#, lr=0.001, weight_decay=0.002)\n",
        "\n",
        "pos_weight = len(docs[docs['scum'] == False])/len(docs[docs['scum'] == True])\n",
        "\n",
        "print(pos_weight)\n",
        "\n",
        "criterion = nn.BCEWithLogitsLoss(pos_weight=torch.Tensor([pos_weight]), reduction='none')\n",
        "#criterion = nn.BCEWithLogitsLoss()\n",
        "\n",
        "model = model.to(device)\n",
        "criterion = criterion.to(device)"
      ],
      "execution_count": 14,
      "outputs": [
        {
          "output_type": "stream",
          "text": [
            "3.2006570351289803\n"
          ],
          "name": "stdout"
        }
      ]
    },
    {
      "cell_type": "markdown",
      "metadata": {
        "id": "yVV-ygdvSIXz",
        "colab_type": "text"
      },
      "source": [
        "## Training Loop"
      ]
    },
    {
      "cell_type": "code",
      "metadata": {
        "id": "n8qvwoDzSIYM",
        "colab_type": "code",
        "outputId": "5b696f72-8fcf-4ae2-ee9c-841ae7b52840",
        "colab": {
          "base_uri": "https://localhost:8080/",
          "height": 353
        }
      },
      "source": [
        "N_EPOCHS = 50\n",
        "WEIGHT_BY_LENGTH = False\n",
        "\n",
        "best_valid_loss = float('inf')\n",
        "tracker = StatsTracker(plot_freq=1)\n",
        "valid_loss, valid_acc, valid_auc, valid_ap = evaluate(model, valid_iterator, criterion, weight_by_length=WEIGHT_BY_LENGTH)\n",
        "tracker.log(valid_loss, 'loss', setting='valid')\n",
        "tracker.log(valid_acc, 'accuracy', setting='valid')\n",
        "tracker.log(valid_auc, 'AUC', setting='valid')\n",
        "tracker.log(valid_ap, 'AP', setting='valid')\n",
        "\n",
        "for epoch in range(N_EPOCHS):\n",
        "\n",
        "    start_time = time.time()\n",
        "    \n",
        "    train_loss, train_acc, train_auc, train_ap = train(model, train_iterator, optimizer, \n",
        "                                                      criterion, weight_by_length=WEIGHT_BY_LENGTH)\n",
        "    valid_loss, valid_acc, valid_auc, valid_ap = evaluate(model, valid_iterator, criterion, weight_by_length=WEIGHT_BY_LENGTH)\n",
        "    \n",
        "    end_time = time.time()\n",
        "\n",
        "    epoch_mins, epoch_secs = epoch_time(start_time, end_time)\n",
        "    \n",
        "    if valid_loss < best_valid_loss:\n",
        "        best_valid_loss = valid_loss\n",
        "        torch.save(model.state_dict(), 'best-model.pt')\n",
        "\n",
        "    tracker.log(train_loss, 'loss', setting='train')\n",
        "    tracker.log(valid_loss, 'loss', setting='valid')\n",
        "    tracker.log(train_acc, 'accuracy', setting='train')\n",
        "    tracker.log(valid_acc, 'accuracy', setting='valid')\n",
        "    tracker.log(train_auc, 'AUC', setting='train')\n",
        "    tracker.log(valid_auc, 'AUC', setting='valid')\n",
        "    tracker.log(train_ap, 'AP', setting='train')\n",
        "    tracker.log(valid_ap, 'AP', setting='valid')\n",
        "    tracker.plot()\n",
        "\n",
        "    print(f'Epoch: {epoch+1:02} | Epoch Time: {epoch_mins}m {epoch_secs}s')\n",
        "    print(f'\\tTrain Loss: {train_loss:.3f} | Train Acc: {train_acc*100:.2f}% | Train AUC: {train_auc:.3f} | Train AP: {train_ap:.3f}')\n",
        "    print(f'\\t Val. Loss: {valid_loss:.3f} |  Val. Acc: {valid_acc*100:.2f}% | Val. AUC: {valid_auc:.3f} | Val. AP: {valid_ap:.3f}')\n",
        "\n",
        "# write results for future reference ;)\n",
        "save_path = 'drive/My Drive/model_LSTM:HIDDEN_DIM[{}]_N_LAYERS[{}]_BIDIRECTIONAL[{}]_DROPOUT[{}]_VOCAB_SIZE[{}]_EMBED[{}]_OPTIM[{}]_WEIGHT_BY_LENGTH[{}]'.format(\n",
        "    HIDDEN_DIM, \n",
        "    N_LAYERS, \n",
        "    BIDIRECTIONAL, \n",
        "    DROPOUT, \n",
        "    MAX_VOCAB_SIZE,\n",
        "    EMBEDDING_NAME,\n",
        "    '_'.join(str(optimizer).split('\\n')),\n",
        "    WEIGHT_BY_LENGTH\n",
        ")\n",
        "\n",
        "INPUT_DIM, \n",
        "           \n",
        "tracker.save(save_path + '.png')"
      ],
      "execution_count": 0,
      "outputs": [
        {
          "output_type": "display_data",
          "data": {
            "image/png": "[encoded data removed]",
            "text/plain": [
              "<Figure size 1296x288 with 4 Axes>"
            ]
          },
          "metadata": {
            "tags": []
          }
        },
        {
          "output_type": "stream",
          "text": [
            "Epoch: 05 | Epoch Time: 1m 49s\n",
            "\tTrain Loss: 1.051 | Train Acc: 54.27% | Train AUC: 0.531 | Train AP: 0.254\n",
            "\t Val. Loss: 1.058 |  Val. Acc: 75.92% | Val. AUC: 0.512 | Val. AP: 0.246\n"
          ],
          "name": "stdout"
        }
      ]
    },
    {
      "cell_type": "markdown",
      "metadata": {
        "id": "Yn615CvBuelW",
        "colab_type": "text"
      },
      "source": [
        "## Check Performance on Test Set"
      ]
    },
    {
      "cell_type": "code",
      "metadata": {
        "id": "dMgNRFFGSIYP",
        "colab_type": "code",
        "colab": {}
      },
      "source": [
        "model.load_state_dict(torch.load('best-lstm.pt'))\n",
        "\n",
        "test_loss, test_acc = evaluate(model, test_iterator, criterion)\n",
        "\n",
        "print(f'Test Loss: {test_loss:.3f} | Test Acc: {test_acc*100:.2f}%')"
      ],
      "execution_count": 0,
      "outputs": []
    },
    {
      "cell_type": "code",
      "metadata": {
        "id": "Ui4jR4zl-kb-",
        "colab_type": "code",
        "colab": {}
      },
      "source": [
        ""
      ],
      "execution_count": 0,
      "outputs": []
    }
  ]
}
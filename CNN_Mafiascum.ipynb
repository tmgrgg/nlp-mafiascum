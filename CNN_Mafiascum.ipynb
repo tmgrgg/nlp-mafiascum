{
  "nbformat": 4,
  "nbformat_minor": 0,
  "metadata": {
    "kernelspec": {
      "name": "python3",
      "display_name": "Python 3"
    },
    "language_info": {
      "codemirror_mode": {
        "name": "ipython",
        "version": 3
      },
      "file_extension": ".py",
      "mimetype": "text/x-python",
      "name": "python",
      "nbconvert_exporter": "python",
      "pygments_lexer": "ipython3",
      "version": "3.7.0"
    },
    "colab": {
      "name": "CNN_Mafiascum.ipynb",
      "provenance": [],
      "collapsed_sections": [],
      "toc_visible": true,
      "include_colab_link": true
    },
    "accelerator": "GPU"
  },
  "cells": [
    {
      "cell_type": "markdown",
      "metadata": {
        "id": "view-in-github",
        "colab_type": "text"
      },
      "source": [
        "<a href=\"https://colab.research.google.com/github/tmgrgg/nlp-mafiascum/blob/master/CNN_Mafiascum.ipynb\" target=\"_parent\"><img src=\"https://colab.research.google.com/assets/colab-badge.svg\" alt=\"Open In Colab\"/></a>"
      ]
    },
    {
      "cell_type": "code",
      "metadata": {
        "id": "zGjUm08ISrcr",
        "colab_type": "code",
        "outputId": "c94fb835-0340-4c32-cad1-dd9fc3fad579",
        "colab": {
          "base_uri": "https://localhost:8080/",
          "height": 153
        }
      },
      "source": [
        "# Cloning into the repository to obtain files\n",
        "!git clone https://bitbucket.org/bopjesvla/thesis.git\n",
        "!cp thesis/src/* ."
      ],
      "execution_count": 0,
      "outputs": [
        {
          "output_type": "stream",
          "text": [
            "Cloning into 'thesis'...\n",
            "remote: Counting objects: 220, done.\u001b[K\n",
            "remote: Compressing objects: 100% (59/59), done.\u001b[K\n",
            "remote: Total 220 (delta 19), reused 0 (delta 0)\u001b[K\n",
            "Receiving objects: 100% (220/220), 734.99 MiB | 22.62 MiB/s, done.\n",
            "Resolving deltas: 100% (96/96), done.\n",
            "Checking out files: 100% (58/58), done.\n",
            "cp: -r not specified; omitting directory 'thesis/src/output'\n"
          ],
          "name": "stdout"
        }
      ]
    },
    {
      "cell_type": "code",
      "metadata": {
        "id": "qF1mint_E5bQ",
        "colab_type": "code",
        "outputId": "89a9a909-e627-4074-c136-6d3920d2384f",
        "colab": {
          "base_uri": "https://localhost:8080/",
          "height": 122
        }
      },
      "source": [
        "from google.colab import drive\n",
        "drive.mount('/content/drive')"
      ],
      "execution_count": 0,
      "outputs": [
        {
          "output_type": "stream",
          "text": [
            "Go to this URL in a browser: https://accounts.google.com/o/oauth2/auth?client_id=947318989803-6bn6qk8qdgf4n4g3pfee6491hc0brc4i.apps.googleusercontent.com&redirect_uri=urn%3aietf%3awg%3aoauth%3a2.0%3aoob&response_type=code&scope=email%20https%3a%2f%2fwww.googleapis.com%2fauth%2fdocs.test%20https%3a%2f%2fwww.googleapis.com%2fauth%2fdrive%20https%3a%2f%2fwww.googleapis.com%2fauth%2fdrive.photos.readonly%20https%3a%2f%2fwww.googleapis.com%2fauth%2fpeopleapi.readonly\n",
            "\n",
            "Enter your authorization code:\n",
            "··········\n",
            "Mounted at /content/drive\n"
          ],
          "name": "stdout"
        }
      ]
    },
    {
      "cell_type": "code",
      "metadata": {
        "id": "wLFGz9F_Tzyd",
        "colab_type": "code",
        "colab": {}
      },
      "source": [
        "import pandas as pd\n",
        "import torch\n",
        "from torchtext import data\n",
        "from torchtext import datasets\n",
        "import random\n",
        "import numpy as np\n",
        "\n",
        "SEED = 1234\n",
        "torch.backends.cudnn.deterministic = True"
      ],
      "execution_count": 0,
      "outputs": []
    },
    {
      "cell_type": "markdown",
      "metadata": {
        "id": "rSBuDFozTD_8",
        "colab_type": "text"
      },
      "source": [
        "# Build Dataset"
      ]
    },
    {
      "cell_type": "code",
      "metadata": {
        "id": "0oH_tinDSo7c",
        "colab_type": "code",
        "outputId": "b73a1e1f-8aa2-43a2-c335-2226c1a4f31a",
        "colab": {
          "base_uri": "https://localhost:8080/",
          "height": 34
        }
      },
      "source": [
        "DOCS_PATH = 'drive/My Drive/24h_of_deception_basic.pkl'\n",
        "\n",
        "docs = pd.read_pickle(DOCS_PATH)\n",
        "docs = docs.sample(frac=1)\n",
        "\n",
        "print(len(docs))"
      ],
      "execution_count": 0,
      "outputs": [
        {
          "output_type": "stream",
          "text": [
            "112523\n"
          ],
          "name": "stdout"
        }
      ]
    },
    {
      "cell_type": "code",
      "metadata": {
        "id": "DctxI93oOrsf",
        "colab_type": "code",
        "colab": {}
      },
      "source": [
        "from torchtext import data\n",
        "\n",
        "class DataFrameDataset(data.Dataset):\n",
        "\n",
        "    def __init__(self, df, text_field, label_field, **kwargs):\n",
        "        fields = [('text', text_field), ('label', label_field), ('index', Field(sequential=False, use_vocab=False))]\n",
        "        examples = []\n",
        "        for i, row in df.iterrows():\n",
        "            label = row.scum \n",
        "            text = row.words\n",
        "            examples.append(data.Example.fromlist([text, label, i], fields))\n",
        "\n",
        "        super().__init__(examples, fields, **kwargs)\n",
        "\n",
        "    @staticmethod\n",
        "    def sort_key(ex):\n",
        "        return len(ex.text)\n",
        "\n",
        "from torchtext.data import Field, LabelField\n",
        "\n",
        "# define Fields\n",
        "TEXT = Field(sequential=True, batch_first=True)\n",
        "LABEL = LabelField(dtype=torch.float)\n",
        "#LABEL = LabelField(dtype=torch.long)\n",
        "\n",
        "# define Dataset\n",
        "dataset = DataFrameDataset(docs, TEXT, LABEL)\n",
        "\n",
        "train_data, test_data = dataset.split(split_ratio=0.8)\n",
        "train_data, valid_data = train_data.split(split_ratio = 0.8, random_state= random.seed(SEED))"
      ],
      "execution_count": 0,
      "outputs": []
    },
    {
      "cell_type": "markdown",
      "metadata": {
        "id": "yqanfWM0THYo",
        "colab_type": "text"
      },
      "source": [
        "# Specify Model"
      ]
    },
    {
      "cell_type": "code",
      "metadata": {
        "id": "VVDC5h0iSlnQ",
        "colab_type": "code",
        "colab": {}
      },
      "source": [
        "import torch.nn as nn\n",
        "import torch.nn.functional as F\n",
        "\n",
        "class CNN(nn.Module):\n",
        "    def __init__(self, vocab_size, embedding_dim, n_filters, filter_sizes, output_dim, \n",
        "                 dropout, pad_idx):\n",
        "        \n",
        "        super().__init__()\n",
        "                \n",
        "        self.embedding = nn.Embedding(vocab_size, embedding_dim, padding_idx = pad_idx)\n",
        "        \n",
        "        self.convs = nn.ModuleList([\n",
        "                                    nn.Conv2d(in_channels = 1, \n",
        "                                              out_channels = n_filters, \n",
        "                                              kernel_size = (fs, embedding_dim)) \n",
        "                                    for fs in filter_sizes\n",
        "                                    ])\n",
        "        \n",
        "        self.fc = nn.Linear(len(filter_sizes) * n_filters, output_dim)\n",
        "        \n",
        "        self.dropout = nn.Dropout(dropout)\n",
        "        \n",
        "    def forward(self, text):\n",
        "                \n",
        "        #text = [batch size, sent len]\n",
        "        \n",
        "        embedded = self.embedding(text)\n",
        "                \n",
        "        #embedded = [batch size, sent len, emb dim]\n",
        "        \n",
        "        embedded = embedded.unsqueeze(1)\n",
        "        \n",
        "        #embedded = [batch size, 1, sent len, emb dim]\n",
        "        \n",
        "        conved = [F.relu(conv(embedded)).squeeze(3) for conv in self.convs]\n",
        "            \n",
        "        #conved_n = [batch size, n_filters, sent len - filter_sizes[n] + 1]\n",
        "                \n",
        "        pooled = [F.max_pool1d(conv, conv.shape[2]).squeeze(2) for conv in conved]\n",
        "        \n",
        "        #pooled_n = [batch size, n_filters]\n",
        "        \n",
        "        cat = self.dropout(torch.cat(pooled, dim = 1))\n",
        "\n",
        "        #cat = [batch size, n_filters * len(filter_sizes)]\n",
        "            \n",
        "        return self.fc(cat)"
      ],
      "execution_count": 0,
      "outputs": []
    },
    {
      "cell_type": "markdown",
      "metadata": {
        "id": "NGxsc4l4Slnl",
        "colab_type": "text"
      },
      "source": [
        "# TRAINING "
      ]
    },
    {
      "cell_type": "markdown",
      "metadata": {
        "colab_type": "text",
        "id": "Qs3hsNq4RWmW"
      },
      "source": [
        "## Training Utilities"
      ]
    },
    {
      "cell_type": "code",
      "metadata": {
        "id": "NNe12whuSlnq",
        "colab_type": "code",
        "colab": {}
      },
      "source": [
        "def binary_accuracy(preds, y):\n",
        "    \"\"\"\n",
        "    Returns accuracy per batch, i.e. if you get 8/10 right, this returns 0.8, NOT 8\n",
        "    \"\"\"\n",
        "\n",
        "    #round predictions to the closest integer\n",
        "    rounded_preds = torch.round(torch.sigmoid(preds))\n",
        "    correct = (rounded_preds == y).float() #convert into float for division \n",
        "    acc = correct.sum() / len(correct)\n",
        "    return acc"
      ],
      "execution_count": 0,
      "outputs": []
    },
    {
      "cell_type": "code",
      "metadata": {
        "id": "I_zTGTDbSlnv",
        "colab_type": "code",
        "colab": {}
      },
      "source": [
        "from sklearn.metrics import roc_auc_score, average_precision_score\n",
        "\n",
        "def train(model, iterator, optimizer, criterion):\n",
        "    \n",
        "    epoch_loss = 0\n",
        "    epoch_acc = 0\n",
        "    \n",
        "    model.train()\n",
        "    \n",
        "    all_predictions = []\n",
        "    all_y_true = []\n",
        "    \n",
        "    for batch in iterator:       \n",
        "        optimizer.zero_grad()\n",
        "        \n",
        "        predictions = model(batch.text).squeeze(1)\n",
        "        \n",
        "        loss = criterion(predictions, batch.label)\n",
        "        \n",
        "        acc = binary_accuracy(predictions, batch.label)\n",
        "        \n",
        "        loss.backward()\n",
        "        \n",
        "        optimizer.step()\n",
        "        \n",
        "        epoch_loss += loss.item()\n",
        "        epoch_acc += acc.item()\n",
        "\n",
        "        all_predictions.append(predictions.cpu().detach().numpy())\n",
        "        all_y_true.append(batch.label.cpu().detach().numpy())\n",
        "\n",
        "    \n",
        "    all_y_true = np.hstack(all_y_true)\n",
        "    all_predictions = np.hstack(all_predictions)\n",
        "    auc_score = roc_auc_score(all_y_true, all_predictions)   \n",
        "    ap_score = average_precision_score(all_y_true, all_predictions) \n",
        "    \n",
        "    return epoch_loss / len(iterator), epoch_acc / len(iterator), auc_score, ap_score"
      ],
      "execution_count": 0,
      "outputs": []
    },
    {
      "cell_type": "code",
      "metadata": {
        "id": "j1daLxycSlny",
        "colab_type": "code",
        "colab": {}
      },
      "source": [
        "def evaluate(model, iterator, criterion):\n",
        "    \n",
        "    epoch_loss = 0\n",
        "    epoch_acc = 0\n",
        "    \n",
        "    model.eval()\n",
        "    \n",
        "    with torch.no_grad():\n",
        "        all_predictions = []\n",
        "        all_y_true = []\n",
        "    \n",
        "        for batch in iterator:\n",
        "\n",
        "            predictions = model(batch.text).squeeze(1)\n",
        "            \n",
        "            loss = criterion(predictions, batch.label)\n",
        "            \n",
        "            acc = binary_accuracy(predictions, batch.label)\n",
        "\n",
        "            all_predictions.append(predictions.cpu().numpy())\n",
        "            all_y_true.append(batch.label.cpu().numpy())\n",
        "\n",
        "            epoch_loss += loss.item()\n",
        "            epoch_acc += acc.item()\n",
        "    \n",
        "    all_y_true = np.hstack(all_y_true)\n",
        "    all_predictions = np.hstack(all_predictions)\n",
        "    auc_score = roc_auc_score(all_y_true, all_predictions)   \n",
        "    ap_score = average_precision_score(all_y_true, all_predictions)  \n",
        "    return epoch_loss / len(iterator), epoch_acc / len(iterator), auc_score, ap_score"
      ],
      "execution_count": 0,
      "outputs": []
    },
    {
      "cell_type": "code",
      "metadata": {
        "id": "-MwLB3fDSln0",
        "colab_type": "code",
        "colab": {}
      },
      "source": [
        "import time\n",
        "\n",
        "def epoch_time(start_time, end_time):\n",
        "    elapsed_time = end_time - start_time\n",
        "    elapsed_mins = int(elapsed_time / 60)\n",
        "    elapsed_secs = int(elapsed_time - (elapsed_mins * 60))\n",
        "    return elapsed_mins, elapsed_secs"
      ],
      "execution_count": 0,
      "outputs": []
    },
    {
      "cell_type": "code",
      "metadata": {
        "id": "6IS8ileNY7e_",
        "colab_type": "code",
        "colab": {}
      },
      "source": [
        "import matplotlib.pyplot as plt\n",
        "from IPython.display import clear_output\n",
        "from collections import OrderedDict\n",
        "\n",
        "class StatsTracker():\n",
        "  def __init__(self, plot_freq=5):\n",
        "    self.counter = 0\n",
        "    self.plot_freq = plot_freq\n",
        "    self._metrics = OrderedDict({})\n",
        "\n",
        "  def _make_plot(self):\n",
        "      fig, ax = plt.subplots(1, len(self._metrics.keys()), squeeze=False, figsize=(18,4))\n",
        "      for i, metric in enumerate(self._metrics.keys()):\n",
        "        train_metric = self._metrics[metric]['train']\n",
        "        valid_metric = self._metrics[metric]['valid']\n",
        "        ax[0, i].plot(list(range(len(train_metric))), train_metric, c='b', label='Train', marker='.')\n",
        "        ax[0, i].plot(list(range(len(valid_metric))), valid_metric, c='r', label='Valid', marker='.')\n",
        "        ax[0, i].set_ylabel(metric)\n",
        "        ax[0, i].set_xlabel('epochs')\n",
        "        ax[0, i].legend(loc='upper right')\n",
        "\n",
        "  def plot(self):\n",
        "    # will plot the current loss_graph every plot_freq^th call to plot\n",
        "    self.counter += 1\n",
        "    print('eyo')\n",
        "    print(self.counter)\n",
        "    print(self.counter % self.plot_freq)\n",
        "    if (self.counter % self.plot_freq == 0):\n",
        "      print('hey')\n",
        "      fig = self._make_plot()\n",
        "      clear_output()\n",
        "      plt.show()\n",
        "      #fig.close()\n",
        "\n",
        "  def save(self, path):\n",
        "    # save the current loss_graph to the given path\n",
        "    self._make_plot()\n",
        "    plt.savefig(path)\n",
        "    plt.close()\n",
        "\n",
        "  def log(self, value, metric, setting='train'):\n",
        "    assert(setting == 'train' or setting == 'valid')\n",
        "    if metric not in self._metrics.keys():\n",
        "      self._metrics[metric] = {'train': [], 'valid': []}\n",
        "    self._metrics[metric][setting].append(value)"
      ],
      "execution_count": 0,
      "outputs": []
    },
    {
      "cell_type": "markdown",
      "metadata": {
        "id": "57wDv_h8Sln3",
        "colab_type": "text"
      },
      "source": [
        "## Define Model Parameters and Training Hyperparameters"
      ]
    },
    {
      "cell_type": "code",
      "metadata": {
        "id": "THtNfnvASO86",
        "colab_type": "code",
        "outputId": "83b33e97-2229-4d08-c402-d17a64c372de",
        "colab": {
          "base_uri": "https://localhost:8080/",
          "height": 34
        }
      },
      "source": [
        "MAX_VOCAB_SIZE = 100_000\n",
        "\n",
        "TEXT.build_vocab(train_data, \n",
        "                 max_size = MAX_VOCAB_SIZE, \n",
        "                 vectors = \"glove.6B.100d\", \n",
        "                 unk_init = torch.Tensor.normal_)\n",
        "\n",
        "LABEL.build_vocab(train_data)"
      ],
      "execution_count": 0,
      "outputs": [
        {
          "output_type": "stream",
          "text": [
            ".vector_cache/glove.6B.zip:  40%|███▉      | 343M/862M [02:19<58:21, 148kB/s]  "
          ],
          "name": "stderr"
        }
      ]
    },
    {
      "cell_type": "code",
      "metadata": {
        "id": "ZVWpMGaXSlnJ",
        "colab_type": "code",
        "colab": {}
      },
      "source": [
        "BATCH_SIZE = 256\n",
        "\n",
        "device = torch.device('cuda' if torch.cuda.is_available() else 'cpu')\n",
        "\n",
        "train_iterator, valid_iterator, test_iterator = data.BucketIterator.splits(\n",
        "    (train_data, valid_data, test_data), \n",
        "    batch_size = BATCH_SIZE, \n",
        "    device = device)"
      ],
      "execution_count": 0,
      "outputs": []
    },
    {
      "cell_type": "code",
      "metadata": {
        "id": "mcr5VBPhSlnX",
        "colab_type": "code",
        "colab": {}
      },
      "source": [
        "INPUT_DIM = len(TEXT.vocab)\n",
        "EMBEDDING_DIM = 100\n",
        "N_FILTERS = 100\n",
        "FILTER_SIZES = [3,4,5]\n",
        "OUTPUT_DIM = 1\n",
        "DROPOUT = 0.5\n",
        "PAD_IDX = TEXT.vocab.stoi[TEXT.pad_token]\n",
        "\n",
        "model = CNN(INPUT_DIM, EMBEDDING_DIM, N_FILTERS, FILTER_SIZES, OUTPUT_DIM, DROPOUT, PAD_IDX)\n",
        "\n",
        "pretrained_embeddings = TEXT.vocab.vectors\n",
        "\n",
        "model.embedding.weight.data.copy_(pretrained_embeddings)\n",
        "\n",
        "UNK_IDX = TEXT.vocab.stoi[TEXT.unk_token]\n",
        "\n",
        "model.embedding.weight.data[UNK_IDX] = torch.zeros(EMBEDDING_DIM)\n",
        "model.embedding.weight.data[PAD_IDX] = torch.zeros(EMBEDDING_DIM)"
      ],
      "execution_count": 0,
      "outputs": []
    },
    {
      "cell_type": "code",
      "metadata": {
        "id": "x7kYthbgSzUb",
        "colab_type": "code",
        "colab": {}
      },
      "source": [
        "import torch.optim as optim\n",
        "\n",
        "optimizer = optim.Adam(model.parameters(), lr=0.001, weight_decay=0.00001)\n",
        "\n",
        "pos_weight = len(docs[docs['scum'] == False])/len(docs[docs['scum'] == True])\n",
        "criterion = nn.BCEWithLogitsLoss(pos_weight=torch.Tensor([pos_weight]))\n",
        "print('positive weight:', pos_weight)\n",
        "\n",
        "model = model.to(device)\n",
        "criterion = criterion.to(device)"
      ],
      "execution_count": 0,
      "outputs": []
    },
    {
      "cell_type": "markdown",
      "metadata": {
        "id": "sostzakUSqAU",
        "colab_type": "text"
      },
      "source": [
        "## Training Loop"
      ]
    },
    {
      "cell_type": "code",
      "metadata": {
        "scrolled": true,
        "id": "iXyGhN2-Sln4",
        "colab_type": "code",
        "colab": {}
      },
      "source": [
        "N_EPOCHS = 50\n",
        "\n",
        "best_valid_loss = float('inf')\n",
        "tracker = StatsTracker(plot_freq=1)\n",
        "valid_loss, valid_acc, valid_auc, valid_ap = evaluate(model, valid_iterator, criterion)\n",
        "tracker.log(valid_loss, 'loss', setting='valid')\n",
        "tracker.log(valid_acc, 'accuracy', setting='valid')\n",
        "tracker.log(valid_auc, 'AUC', setting='valid')\n",
        "tracker.log(valid_ap, 'AP', setting='valid')\n",
        "\n",
        "for epoch in range(N_EPOCHS):\n",
        "\n",
        "    start_time = time.time()\n",
        "    \n",
        "    train_loss, train_acc, train_auc, train_ap = train(model, train_iterator, optimizer, criterion)\n",
        "    valid_loss, valid_acc, valid_auc, valid_ap = evaluate(model, valid_iterator, criterion)\n",
        "    \n",
        "    end_time = time.time()\n",
        "\n",
        "    epoch_mins, epoch_secs = epoch_time(start_time, end_time)\n",
        "    \n",
        "    if valid_loss < best_valid_loss:\n",
        "        best_valid_loss = valid_loss\n",
        "        torch.save(model.state_dict(), 'best-model.pt')\n",
        "\n",
        "    tracker.log(train_loss, 'loss', setting='train')\n",
        "    tracker.log(valid_loss, 'loss', setting='valid')\n",
        "    tracker.log(train_acc, 'accuracy', setting='train')\n",
        "    tracker.log(valid_acc, 'accuracy', setting='valid')\n",
        "    tracker.log(train_auc, 'AUC', setting='train')\n",
        "    tracker.log(valid_auc, 'AUC', setting='valid')\n",
        "    tracker.log(train_ap, 'AP', setting='train')\n",
        "    tracker.log(valid_ap, 'AP', setting='valid')\n",
        "    tracker.plot()\n",
        "\n",
        "    print(f'Epoch: {epoch+1:02} | Epoch Time: {epoch_mins}m {epoch_secs}s')\n",
        "    print(f'\\tTrain Loss: {train_loss:.3f} | Train Acc: {train_acc*100:.2f}% | Train AUC: {train_auc:.3f} | Train AP: {train_ap:.3f}')\n",
        "    print(f'\\t Val. Loss: {valid_loss:.3f} |  Val. Acc: {valid_acc*100:.2f}% | Val. AUC: {valid_auc:.3f} | Val. AP: {valid_ap:.3f}')\n",
        "    "
      ],
      "execution_count": 0,
      "outputs": []
    },
    {
      "cell_type": "markdown",
      "metadata": {
        "id": "1S0UedDYSmaP",
        "colab_type": "text"
      },
      "source": [
        "Test results:"
      ]
    },
    {
      "cell_type": "code",
      "metadata": {
        "id": "A6PSE48OSln7",
        "colab_type": "code",
        "colab": {}
      },
      "source": [
        "model.load_state_dict(torch.load('best-model.pt'))\n",
        "\n",
        "test_loss, test_acc, test_auc, test_ap = evaluate(model, test_iterator, criterion)\n",
        "\n",
        "print(f'\\t Test Loss: {test_loss:.3f} |  Test Acc: {test_acc*100:.2f}% | Test AUC: {test_auc:.3f} | Test AP: {test_ap:.3f}')"
      ],
      "execution_count": 0,
      "outputs": []
    }
  ]
}